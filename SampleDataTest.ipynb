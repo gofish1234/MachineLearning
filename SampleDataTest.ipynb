{
 "cells": [
  {
   "cell_type": "code",
   "execution_count": 1,
   "metadata": {},
   "outputs": [],
   "source": [
    "import matplotlib.pyplot as plt\n",
    "from sklearn.neighbors import KNeighborsClassifier\n",
    "import pandas as pd\n",
    "import os"
   ]
  },
  {
   "cell_type": "code",
   "execution_count": 77,
   "metadata": {},
   "outputs": [
    {
     "data": {
      "text/html": [
       "<div>\n",
       "<style scoped>\n",
       "    .dataframe tbody tr th:only-of-type {\n",
       "        vertical-align: middle;\n",
       "    }\n",
       "\n",
       "    .dataframe tbody tr th {\n",
       "        vertical-align: top;\n",
       "    }\n",
       "\n",
       "    .dataframe thead th {\n",
       "        text-align: right;\n",
       "    }\n",
       "</style>\n",
       "<table border=\"1\" class=\"dataframe\">\n",
       "  <thead>\n",
       "    <tr style=\"text-align: right;\">\n",
       "      <th></th>\n",
       "      <th>Date</th>\n",
       "      <th>Stock</th>\n",
       "      <th>Tweetpolarity</th>\n",
       "      <th>Tweetsubjectivity</th>\n",
       "      <th>Total_Tweets</th>\n",
       "      <th>Twitpolarity</th>\n",
       "      <th>Twitsubjectivity</th>\n",
       "      <th>Total_Twits</th>\n",
       "      <th>Value</th>\n",
       "      <th>Calc</th>\n",
       "    </tr>\n",
       "  </thead>\n",
       "  <tbody>\n",
       "    <tr>\n",
       "      <th>0</th>\n",
       "      <td>11/7/19</td>\n",
       "      <td>AMZN</td>\n",
       "      <td>-0.35</td>\n",
       "      <td>0.03</td>\n",
       "      <td>485</td>\n",
       "      <td>0.052850</td>\n",
       "      <td>0.311728</td>\n",
       "      <td>698</td>\n",
       "      <td>-15.56</td>\n",
       "      <td>0</td>\n",
       "    </tr>\n",
       "    <tr>\n",
       "      <th>1</th>\n",
       "      <td>11/7/19</td>\n",
       "      <td>BBY</td>\n",
       "      <td>-0.24</td>\n",
       "      <td>0.38</td>\n",
       "      <td>480</td>\n",
       "      <td>0.104050</td>\n",
       "      <td>0.120468</td>\n",
       "      <td>22</td>\n",
       "      <td>0.04</td>\n",
       "      <td>1</td>\n",
       "    </tr>\n",
       "    <tr>\n",
       "      <th>2</th>\n",
       "      <td>11/7/19</td>\n",
       "      <td>HD</td>\n",
       "      <td>0.15</td>\n",
       "      <td>0.58</td>\n",
       "      <td>498</td>\n",
       "      <td>0.018459</td>\n",
       "      <td>0.199787</td>\n",
       "      <td>28</td>\n",
       "      <td>-1.06</td>\n",
       "      <td>0</td>\n",
       "    </tr>\n",
       "    <tr>\n",
       "      <th>3</th>\n",
       "      <td>11/7/19</td>\n",
       "      <td>LOW</td>\n",
       "      <td>0.36</td>\n",
       "      <td>0.25</td>\n",
       "      <td>278</td>\n",
       "      <td>0.009259</td>\n",
       "      <td>0.202020</td>\n",
       "      <td>8</td>\n",
       "      <td>-0.85</td>\n",
       "      <td>0</td>\n",
       "    </tr>\n",
       "    <tr>\n",
       "      <th>4</th>\n",
       "      <td>11/7/19</td>\n",
       "      <td>M</td>\n",
       "      <td>0.00</td>\n",
       "      <td>0.40</td>\n",
       "      <td>933</td>\n",
       "      <td>0.069366</td>\n",
       "      <td>0.129648</td>\n",
       "      <td>43</td>\n",
       "      <td>-0.09</td>\n",
       "      <td>0</td>\n",
       "    </tr>\n",
       "  </tbody>\n",
       "</table>\n",
       "</div>"
      ],
      "text/plain": [
       "      Date Stock  Tweetpolarity  Tweetsubjectivity  Total_Tweets  \\\n",
       "0  11/7/19  AMZN          -0.35               0.03           485   \n",
       "1  11/7/19   BBY          -0.24               0.38           480   \n",
       "2  11/7/19    HD           0.15               0.58           498   \n",
       "3  11/7/19   LOW           0.36               0.25           278   \n",
       "4  11/7/19     M           0.00               0.40           933   \n",
       "\n",
       "   Twitpolarity  Twitsubjectivity  Total_Twits  Value  Calc  \n",
       "0      0.052850          0.311728          698 -15.56     0  \n",
       "1      0.104050          0.120468           22   0.04     1  \n",
       "2      0.018459          0.199787           28  -1.06     0  \n",
       "3      0.009259          0.202020            8  -0.85     0  \n",
       "4      0.069366          0.129648           43  -0.09     0  "
      ]
     },
     "execution_count": 77,
     "metadata": {},
     "output_type": "execute_result"
    }
   ],
   "source": [
    "df = pd.read_csv(os.path.join(\"..\", \"Resources\", \"All_Tweet_Twit.csv\"))\n",
    "df.head()"
   ]
  },
  {
   "cell_type": "code",
   "execution_count": 78,
   "metadata": {},
   "outputs": [],
   "source": [
    "y = df[\"Calc\"]\n",
    "#y = y.astype('int64', copy=False)\n",
    "target_names = [\"negative\", \"positive\"]"
   ]
  },
  {
   "cell_type": "code",
   "execution_count": 86,
   "metadata": {},
   "outputs": [
    {
     "data": {
      "text/html": [
       "<div>\n",
       "<style scoped>\n",
       "    .dataframe tbody tr th:only-of-type {\n",
       "        vertical-align: middle;\n",
       "    }\n",
       "\n",
       "    .dataframe tbody tr th {\n",
       "        vertical-align: top;\n",
       "    }\n",
       "\n",
       "    .dataframe thead th {\n",
       "        text-align: right;\n",
       "    }\n",
       "</style>\n",
       "<table border=\"1\" class=\"dataframe\">\n",
       "  <thead>\n",
       "    <tr style=\"text-align: right;\">\n",
       "      <th></th>\n",
       "      <th>Twitpolarity</th>\n",
       "      <th>Twitsubjectivity</th>\n",
       "      <th>Total_Twits</th>\n",
       "    </tr>\n",
       "  </thead>\n",
       "  <tbody>\n",
       "    <tr>\n",
       "      <th>0</th>\n",
       "      <td>0.052850</td>\n",
       "      <td>0.311728</td>\n",
       "      <td>698</td>\n",
       "    </tr>\n",
       "    <tr>\n",
       "      <th>1</th>\n",
       "      <td>0.104050</td>\n",
       "      <td>0.120468</td>\n",
       "      <td>22</td>\n",
       "    </tr>\n",
       "    <tr>\n",
       "      <th>2</th>\n",
       "      <td>0.018459</td>\n",
       "      <td>0.199787</td>\n",
       "      <td>28</td>\n",
       "    </tr>\n",
       "    <tr>\n",
       "      <th>3</th>\n",
       "      <td>0.009259</td>\n",
       "      <td>0.202020</td>\n",
       "      <td>8</td>\n",
       "    </tr>\n",
       "    <tr>\n",
       "      <th>4</th>\n",
       "      <td>0.069366</td>\n",
       "      <td>0.129648</td>\n",
       "      <td>43</td>\n",
       "    </tr>\n",
       "  </tbody>\n",
       "</table>\n",
       "</div>"
      ],
      "text/plain": [
       "   Twitpolarity  Twitsubjectivity  Total_Twits\n",
       "0      0.052850          0.311728          698\n",
       "1      0.104050          0.120468           22\n",
       "2      0.018459          0.199787           28\n",
       "3      0.009259          0.202020            8\n",
       "4      0.069366          0.129648           43"
      ]
     },
     "execution_count": 86,
     "metadata": {},
     "output_type": "execute_result"
    }
   ],
   "source": [
    "X = df.drop([\"Date\", \"Stock\", \"Calc\", \"Value\", \"Tweetpolarity\", \"Tweetsubjectivity\", \"Total_Tweets\"], axis=1)\n",
    "X.head()"
   ]
  },
  {
   "cell_type": "markdown",
   "metadata": {},
   "source": [
    "KNN model predictor"
   ]
  },
  {
   "cell_type": "code",
   "execution_count": 87,
   "metadata": {},
   "outputs": [],
   "source": [
    "from sklearn.model_selection import train_test_split\n",
    "X_train, X_test, y_train, y_test = train_test_split(X, y, random_state=42)"
   ]
  },
  {
   "cell_type": "code",
   "execution_count": 88,
   "metadata": {},
   "outputs": [
    {
     "name": "stdout",
     "output_type": "stream",
     "text": [
      "k: 1, Train/Test Score: 1.000/0.600\n",
      "k: 3, Train/Test Score: 0.719/0.550\n",
      "k: 5, Train/Test Score: 0.702/0.400\n",
      "k: 7, Train/Test Score: 0.702/0.500\n",
      "k: 9, Train/Test Score: 0.649/0.450\n",
      "k: 11, Train/Test Score: 0.614/0.400\n",
      "k: 13, Train/Test Score: 0.579/0.400\n",
      "k: 15, Train/Test Score: 0.614/0.350\n",
      "k: 17, Train/Test Score: 0.614/0.350\n",
      "k: 19, Train/Test Score: 0.596/0.350\n"
     ]
    },
    {
     "data": {
      "image/png": "[encoded data removed]",
      "text/plain": [
       "<Figure size 432x288 with 1 Axes>"
      ]
     },
     "metadata": {
      "needs_background": "light"
     },
     "output_type": "display_data"
    }
   ],
   "source": [
    "# Loop through different k values to see which has the highest accuracy\n",
    "# Note: We only use odd numbers because we don't want any ties\n",
    "train_scores = []\n",
    "test_scores = []\n",
    "k_values = []\n",
    "for k in range(1, 20, 2):\n",
    "    knn = KNeighborsClassifier(n_neighbors=k)\n",
    "    knn.fit(X_train, y_train)\n",
    "    train_score = knn.score(X_train, y_train)\n",
    "    test_score = knn.score(X_test, y_test)\n",
    "    train_scores.append(train_score)\n",
    "    test_scores.append(test_score)\n",
    "    k_values.append({k})\n",
    "    print(f\"k: {k}, Train/Test Score: {train_score:.3f}/{test_score:.3f}\")\n",
    "    \n",
    "    \n",
    "plt.plot(range(1, 20, 2), train_scores, marker='o')\n",
    "plt.plot(range(1, 20, 2), test_scores, marker=\"x\")\n",
    "plt.xlabel(\"k neighbors\")\n",
    "plt.ylabel(\"Testing accuracy Score\")\n",
    "plt.show()"
   ]
  },
  {
   "cell_type": "code",
   "execution_count": 89,
   "metadata": {},
   "outputs": [
    {
     "data": {
      "text/html": [
       "<div>\n",
       "<style scoped>\n",
       "    .dataframe tbody tr th:only-of-type {\n",
       "        vertical-align: middle;\n",
       "    }\n",
       "\n",
       "    .dataframe tbody tr th {\n",
       "        vertical-align: top;\n",
       "    }\n",
       "\n",
       "    .dataframe thead th {\n",
       "        text-align: right;\n",
       "    }\n",
       "</style>\n",
       "<table border=\"1\" class=\"dataframe\">\n",
       "  <thead>\n",
       "    <tr style=\"text-align: right;\">\n",
       "      <th></th>\n",
       "      <th>k</th>\n",
       "      <th>Twit_Train_score</th>\n",
       "      <th>Twit_Test_score</th>\n",
       "    </tr>\n",
       "  </thead>\n",
       "  <tbody>\n",
       "    <tr>\n",
       "      <th>0</th>\n",
       "      <td>19</td>\n",
       "      <td>1.000000</td>\n",
       "      <td>0.60</td>\n",
       "    </tr>\n",
       "    <tr>\n",
       "      <th>1</th>\n",
       "      <td>19</td>\n",
       "      <td>0.719298</td>\n",
       "      <td>0.55</td>\n",
       "    </tr>\n",
       "    <tr>\n",
       "      <th>2</th>\n",
       "      <td>19</td>\n",
       "      <td>0.701754</td>\n",
       "      <td>0.40</td>\n",
       "    </tr>\n",
       "    <tr>\n",
       "      <th>3</th>\n",
       "      <td>19</td>\n",
       "      <td>0.701754</td>\n",
       "      <td>0.50</td>\n",
       "    </tr>\n",
       "    <tr>\n",
       "      <th>4</th>\n",
       "      <td>19</td>\n",
       "      <td>0.649123</td>\n",
       "      <td>0.45</td>\n",
       "    </tr>\n",
       "  </tbody>\n",
       "</table>\n",
       "</div>"
      ],
      "text/plain": [
       "    k  Twit_Train_score  Twit_Test_score\n",
       "0  19          1.000000             0.60\n",
       "1  19          0.719298             0.55\n",
       "2  19          0.701754             0.40\n",
       "3  19          0.701754             0.50\n",
       "4  19          0.649123             0.45"
      ]
     },
     "execution_count": 89,
     "metadata": {},
     "output_type": "execute_result"
    }
   ],
   "source": [
    "#convert scores to dataframe and export to csv.\n",
    "Twit_KNN_Scores = pd.DataFrame(\n",
    "    {'k': k,\n",
    "     'Twit_Train_score': train_scores,\n",
    "     'Twit_Test_score': test_scores\n",
    "    })\n",
    "Twit_KNN_Scores.to_csv(\"Twit_KNN_scores.csv\", index=False, header=True)\n",
    "Twit_KNN_Scores.head()"
   ]
  },
  {
   "cell_type": "code",
   "execution_count": 90,
   "metadata": {},
   "outputs": [
    {
     "name": "stdout",
     "output_type": "stream",
     "text": [
      "k=13 Test Acc: 0.400\n"
     ]
    }
   ],
   "source": [
    "# Note that k: 13 seems to be the best choice for this dataset\n",
    "knn = KNeighborsClassifier(n_neighbors=13)\n",
    "knn.fit(X_train, y_train)\n",
    "print('k=13 Test Acc: %.3f' % knn.score(X_test, y_test))"
   ]
  },
  {
   "cell_type": "markdown",
   "metadata": {},
   "source": [
    "Tree model predictor"
   ]
  },
  {
   "cell_type": "code",
   "execution_count": 91,
   "metadata": {},
   "outputs": [],
   "source": [
    "target = df[\"Calc\"]\n",
    "target_names = [\"negative\", \"positive\"]"
   ]
  },
  {
   "cell_type": "code",
   "execution_count": 92,
   "metadata": {},
   "outputs": [],
   "source": [
    "data = df.drop([\"Date\", \"Stock\", \"Calc\", \"Value\", \"Tweetpolarity\", \"Tweetsubjectivity\", \"Total_Tweets\"], axis=1)\n",
    "feature_names = data.columns"
   ]
  },
  {
   "cell_type": "code",
   "execution_count": 93,
   "metadata": {},
   "outputs": [
    {
     "data": {
      "text/plain": [
       "0.55"
      ]
     },
     "execution_count": 93,
     "metadata": {},
     "output_type": "execute_result"
    }
   ],
   "source": [
    "from sklearn import tree\n",
    "clf = tree.DecisionTreeClassifier()\n",
    "clf = clf.fit(X_train, y_train)\n",
    "clf.score(X_test, y_test)"
   ]
  },
  {
   "cell_type": "markdown",
   "metadata": {},
   "source": [
    "Random Forest Predictor"
   ]
  },
  {
   "cell_type": "code",
   "execution_count": 94,
   "metadata": {},
   "outputs": [
    {
     "data": {
      "text/plain": [
       "0.45"
      ]
     },
     "execution_count": 94,
     "metadata": {},
     "output_type": "execute_result"
    }
   ],
   "source": [
    "from sklearn.ensemble import RandomForestClassifier\n",
    "rf = RandomForestClassifier(n_estimators=100)\n",
    "rf = rf.fit(X_train, y_train)\n",
    "rf.score(X_test, y_test)"
   ]
  },
  {
   "cell_type": "code",
   "execution_count": 95,
   "metadata": {},
   "outputs": [
    {
     "data": {
      "text/plain": [
       "[0.45,\n",
       " 0.45,\n",
       " 0.55,\n",
       " 0.3,\n",
       " 0.55,\n",
       " 0.35,\n",
       " 0.55,\n",
       " 0.55,\n",
       " 0.5,\n",
       " 0.4,\n",
       " 0.45,\n",
       " 0.45,\n",
       " 0.5,\n",
       " 0.4,\n",
       " 0.45,\n",
       " 0.5,\n",
       " 0.5,\n",
       " 0.55,\n",
       " 0.5,\n",
       " 0.35,\n",
       " 0.4,\n",
       " 0.5,\n",
       " 0.45,\n",
       " 0.4,\n",
       " 0.45,\n",
       " 0.5,\n",
       " 0.45,\n",
       " 0.45,\n",
       " 0.4,\n",
       " 0.5,\n",
       " 0.5,\n",
       " 0.4,\n",
       " 0.4,\n",
       " 0.45,\n",
       " 0.45,\n",
       " 0.5,\n",
       " 0.4,\n",
       " 0.35,\n",
       " 0.5,\n",
       " 0.55,\n",
       " 0.55,\n",
       " 0.5,\n",
       " 0.45,\n",
       " 0.5,\n",
       " 0.55,\n",
       " 0.4,\n",
       " 0.4,\n",
       " 0.4,\n",
       " 0.4,\n",
       " 0.5,\n",
       " 0.5,\n",
       " 0.4,\n",
       " 0.45,\n",
       " 0.45,\n",
       " 0.45,\n",
       " 0.35,\n",
       " 0.45,\n",
       " 0.45,\n",
       " 0.35,\n",
       " 0.5,\n",
       " 0.5,\n",
       " 0.5,\n",
       " 0.45,\n",
       " 0.5,\n",
       " 0.45,\n",
       " 0.4,\n",
       " 0.5,\n",
       " 0.45,\n",
       " 0.5,\n",
       " 0.4,\n",
       " 0.5,\n",
       " 0.4,\n",
       " 0.45,\n",
       " 0.5,\n",
       " 0.4,\n",
       " 0.45,\n",
       " 0.4,\n",
       " 0.45,\n",
       " 0.45,\n",
       " 0.55,\n",
       " 0.4,\n",
       " 0.4,\n",
       " 0.35,\n",
       " 0.4,\n",
       " 0.45,\n",
       " 0.55,\n",
       " 0.4,\n",
       " 0.4,\n",
       " 0.35,\n",
       " 0.45,\n",
       " 0.45,\n",
       " 0.4,\n",
       " 0.5,\n",
       " 0.4,\n",
       " 0.45,\n",
       " 0.4,\n",
       " 0.45,\n",
       " 0.5]"
      ]
     },
     "execution_count": 95,
     "metadata": {},
     "output_type": "execute_result"
    }
   ],
   "source": [
    "Twit_rf_score = []\n",
    "for n in range (2, 100, 1):\n",
    "    rf = RandomForestClassifier(n_estimators=n)\n",
    "    rf = rf.fit(X_train, y_train)\n",
    "    rf.score(X_test, y_test)\n",
    "    score = rf.score(X_test, y_test)\n",
    "    Twit_rf_score.append(score)\n",
    "\n",
    "Twit_rf_score_df = pd.DataFrame(Twit_rf_score)\n",
    "Twit_rf_score_df.index.name = 'n_estimators'\n",
    "Twit_rf_score_df.to_csv(\"Twit_rf_scores.csv\", index=True, header=True)\n",
    "Twit_rf_score"
   ]
  },
  {
   "cell_type": "code",
   "execution_count": 96,
   "metadata": {},
   "outputs": [
    {
     "data": {
      "text/plain": [
       "[(0.38217086939389666, 'Twitpolarity'),\n",
       " (0.31538368936243555, 'Total_Twits'),\n",
       " (0.30244544124366785, 'Twitsubjectivity')]"
      ]
     },
     "execution_count": 96,
     "metadata": {},
     "output_type": "execute_result"
    }
   ],
   "source": [
    "PieData = sorted(zip(rf.feature_importances_, feature_names), reverse=True)\n",
    "PieData"
   ]
  },
  {
   "cell_type": "code",
   "execution_count": 97,
   "metadata": {},
   "outputs": [],
   "source": [
    "#send PieData to csv\n",
    "Twit_Pie_df = pd.DataFrame(PieData)\n",
    "Twit_Pie_df.to_csv(\"Twit_Pie_df.csv\", index=False, header=True)"
   ]
  },
  {
   "cell_type": "markdown",
   "metadata": {},
   "source": [
    "NOW USE THE TWEET DATA"
   ]
  },
  {
   "cell_type": "code",
   "execution_count": 98,
   "metadata": {},
   "outputs": [
    {
     "data": {
      "text/html": [
       "<div>\n",
       "<style scoped>\n",
       "    .dataframe tbody tr th:only-of-type {\n",
       "        vertical-align: middle;\n",
       "    }\n",
       "\n",
       "    .dataframe tbody tr th {\n",
       "        vertical-align: top;\n",
       "    }\n",
       "\n",
       "    .dataframe thead th {\n",
       "        text-align: right;\n",
       "    }\n",
       "</style>\n",
       "<table border=\"1\" class=\"dataframe\">\n",
       "  <thead>\n",
       "    <tr style=\"text-align: right;\">\n",
       "      <th></th>\n",
       "      <th>Tweetpolarity</th>\n",
       "      <th>Tweetsubjectivity</th>\n",
       "      <th>Total_Tweets</th>\n",
       "    </tr>\n",
       "  </thead>\n",
       "  <tbody>\n",
       "    <tr>\n",
       "      <th>0</th>\n",
       "      <td>-0.35</td>\n",
       "      <td>0.03</td>\n",
       "      <td>485</td>\n",
       "    </tr>\n",
       "    <tr>\n",
       "      <th>1</th>\n",
       "      <td>-0.24</td>\n",
       "      <td>0.38</td>\n",
       "      <td>480</td>\n",
       "    </tr>\n",
       "    <tr>\n",
       "      <th>2</th>\n",
       "      <td>0.15</td>\n",
       "      <td>0.58</td>\n",
       "      <td>498</td>\n",
       "    </tr>\n",
       "    <tr>\n",
       "      <th>3</th>\n",
       "      <td>0.36</td>\n",
       "      <td>0.25</td>\n",
       "      <td>278</td>\n",
       "    </tr>\n",
       "    <tr>\n",
       "      <th>4</th>\n",
       "      <td>0.00</td>\n",
       "      <td>0.40</td>\n",
       "      <td>933</td>\n",
       "    </tr>\n",
       "  </tbody>\n",
       "</table>\n",
       "</div>"
      ],
      "text/plain": [
       "   Tweetpolarity  Tweetsubjectivity  Total_Tweets\n",
       "0          -0.35               0.03           485\n",
       "1          -0.24               0.38           480\n",
       "2           0.15               0.58           498\n",
       "3           0.36               0.25           278\n",
       "4           0.00               0.40           933"
      ]
     },
     "execution_count": 98,
     "metadata": {},
     "output_type": "execute_result"
    }
   ],
   "source": [
    "X = df.drop([\"Date\", \"Stock\", \"Calc\", \"Value\", \"Twitpolarity\", \"Twitsubjectivity\", \"Total_Twits\"], axis=1)\n",
    "X.head()"
   ]
  },
  {
   "cell_type": "code",
   "execution_count": 99,
   "metadata": {},
   "outputs": [],
   "source": [
    "from sklearn.model_selection import train_test_split\n",
    "X_train, X_test, y_train, y_test = train_test_split(X, y, random_state=42)"
   ]
  },
  {
   "cell_type": "code",
   "execution_count": 100,
   "metadata": {},
   "outputs": [
    {
     "name": "stdout",
     "output_type": "stream",
     "text": [
      "k: 1, Train/Test Score: 1.000/0.600\n",
      "k: 3, Train/Test Score: 0.614/0.750\n",
      "k: 5, Train/Test Score: 0.684/0.700\n",
      "k: 7, Train/Test Score: 0.649/0.700\n",
      "k: 9, Train/Test Score: 0.649/0.700\n",
      "k: 11, Train/Test Score: 0.667/0.700\n",
      "k: 13, Train/Test Score: 0.649/0.700\n",
      "k: 15, Train/Test Score: 0.667/0.700\n",
      "k: 17, Train/Test Score: 0.667/0.700\n",
      "k: 19, Train/Test Score: 0.667/0.700\n"
     ]
    },
    {
     "data": {
      "image/png": "[encoded data removed]",
      "text/plain": [
       "<Figure size 432x288 with 1 Axes>"
      ]
     },
     "metadata": {
      "needs_background": "light"
     },
     "output_type": "display_data"
    }
   ],
   "source": [
    "# Loop through different k values to see which has the highest accuracy\n",
    "# Note: We only use odd numbers because we don't want any ties\n",
    "train_scores = []\n",
    "test_scores = []\n",
    "k_values = []\n",
    "for k in range(1, 20, 2):\n",
    "    knn = KNeighborsClassifier(n_neighbors=k)\n",
    "    knn.fit(X_train, y_train)\n",
    "    train_score = knn.score(X_train, y_train)\n",
    "    test_score = knn.score(X_test, y_test)\n",
    "    train_scores.append(train_score)\n",
    "    test_scores.append(test_score)\n",
    "    k_values.append({k})\n",
    "    print(f\"k: {k}, Train/Test Score: {train_score:.3f}/{test_score:.3f}\")\n",
    "    \n",
    "    \n",
    "plt.plot(range(1, 20, 2), train_scores, marker='o')\n",
    "plt.plot(range(1, 20, 2), test_scores, marker=\"x\")\n",
    "plt.xlabel(\"k neighbors\")\n",
    "plt.ylabel(\"Testing accuracy Score\")\n",
    "plt.show()"
   ]
  },
  {
   "cell_type": "code",
   "execution_count": 101,
   "metadata": {},
   "outputs": [
    {
     "data": {
      "text/html": [
       "<div>\n",
       "<style scoped>\n",
       "    .dataframe tbody tr th:only-of-type {\n",
       "        vertical-align: middle;\n",
       "    }\n",
       "\n",
       "    .dataframe tbody tr th {\n",
       "        vertical-align: top;\n",
       "    }\n",
       "\n",
       "    .dataframe thead th {\n",
       "        text-align: right;\n",
       "    }\n",
       "</style>\n",
       "<table border=\"1\" class=\"dataframe\">\n",
       "  <thead>\n",
       "    <tr style=\"text-align: right;\">\n",
       "      <th></th>\n",
       "      <th>k</th>\n",
       "      <th>Twit_Train_score</th>\n",
       "      <th>Twit_Test_score</th>\n",
       "    </tr>\n",
       "  </thead>\n",
       "  <tbody>\n",
       "    <tr>\n",
       "      <th>0</th>\n",
       "      <td>19</td>\n",
       "      <td>1.000000</td>\n",
       "      <td>0.60</td>\n",
       "    </tr>\n",
       "    <tr>\n",
       "      <th>1</th>\n",
       "      <td>19</td>\n",
       "      <td>0.614035</td>\n",
       "      <td>0.75</td>\n",
       "    </tr>\n",
       "    <tr>\n",
       "      <th>2</th>\n",
       "      <td>19</td>\n",
       "      <td>0.684211</td>\n",
       "      <td>0.70</td>\n",
       "    </tr>\n",
       "    <tr>\n",
       "      <th>3</th>\n",
       "      <td>19</td>\n",
       "      <td>0.649123</td>\n",
       "      <td>0.70</td>\n",
       "    </tr>\n",
       "    <tr>\n",
       "      <th>4</th>\n",
       "      <td>19</td>\n",
       "      <td>0.649123</td>\n",
       "      <td>0.70</td>\n",
       "    </tr>\n",
       "  </tbody>\n",
       "</table>\n",
       "</div>"
      ],
      "text/plain": [
       "    k  Twit_Train_score  Twit_Test_score\n",
       "0  19          1.000000             0.60\n",
       "1  19          0.614035             0.75\n",
       "2  19          0.684211             0.70\n",
       "3  19          0.649123             0.70\n",
       "4  19          0.649123             0.70"
      ]
     },
     "execution_count": 101,
     "metadata": {},
     "output_type": "execute_result"
    }
   ],
   "source": [
    "#convert scores to dataframe and export to csv.\n",
    "Tweet_KNN_Scores = pd.DataFrame(\n",
    "    {'k': k,\n",
    "     'Twit_Train_score': train_scores,\n",
    "     'Twit_Test_score': test_scores\n",
    "    })\n",
    "Tweet_KNN_Scores.to_csv(\"Tweet_KNN_scores.csv\", index=False, header=True)\n",
    "Tweet_KNN_Scores.head()"
   ]
  },
  {
   "cell_type": "code",
   "execution_count": 102,
   "metadata": {},
   "outputs": [
    {
     "name": "stdout",
     "output_type": "stream",
     "text": [
      "k=13 Test Acc: 0.700\n"
     ]
    }
   ],
   "source": [
    "# Note that k: 13 seems to be the best choice for this dataset\n",
    "knn = KNeighborsClassifier(n_neighbors=13)\n",
    "knn.fit(X_train, y_train)\n",
    "print('k=13 Test Acc: %.3f' % knn.score(X_test, y_test))"
   ]
  },
  {
   "cell_type": "markdown",
   "metadata": {},
   "source": [
    "Tree model predictor"
   ]
  },
  {
   "cell_type": "code",
   "execution_count": 103,
   "metadata": {},
   "outputs": [],
   "source": [
    "target = df[\"Calc\"]\n",
    "target_names = [\"negative\", \"positive\"]"
   ]
  },
  {
   "cell_type": "code",
   "execution_count": 104,
   "metadata": {},
   "outputs": [],
   "source": [
    "data = df.drop([\"Date\", \"Stock\", \"Calc\", \"Value\", \"Twitpolarity\", \"Twitsubjectivity\", \"Total_Twits\"], axis=1)\n",
    "feature_names = data.columns"
   ]
  },
  {
   "cell_type": "code",
   "execution_count": 105,
   "metadata": {},
   "outputs": [
    {
     "data": {
      "text/plain": [
       "0.7"
      ]
     },
     "execution_count": 105,
     "metadata": {},
     "output_type": "execute_result"
    }
   ],
   "source": [
    "from sklearn import tree\n",
    "clf = tree.DecisionTreeClassifier()\n",
    "clf = clf.fit(X_train, y_train)\n",
    "clf.score(X_test, y_test)"
   ]
  },
  {
   "cell_type": "markdown",
   "metadata": {},
   "source": [
    "Random Forest Predictor"
   ]
  },
  {
   "cell_type": "code",
   "execution_count": 106,
   "metadata": {},
   "outputs": [
    {
     "data": {
      "text/plain": [
       "0.6"
      ]
     },
     "execution_count": 106,
     "metadata": {},
     "output_type": "execute_result"
    }
   ],
   "source": [
    "from sklearn.ensemble import RandomForestClassifier\n",
    "rf = RandomForestClassifier(n_estimators=100)\n",
    "rf = rf.fit(X_train, y_train)\n",
    "rf.score(X_test, y_test)"
   ]
  },
  {
   "cell_type": "code",
   "execution_count": 107,
   "metadata": {},
   "outputs": [
    {
     "data": {
      "text/plain": [
       "[0.5,\n",
       " 0.3,\n",
       " 0.75,\n",
       " 0.55,\n",
       " 0.55,\n",
       " 0.6,\n",
       " 0.55,\n",
       " 0.55,\n",
       " 0.5,\n",
       " 0.6,\n",
       " 0.6,\n",
       " 0.65,\n",
       " 0.7,\n",
       " 0.7,\n",
       " 0.65,\n",
       " 0.6,\n",
       " 0.7,\n",
       " 0.6,\n",
       " 0.6,\n",
       " 0.6,\n",
       " 0.7,\n",
       " 0.65,\n",
       " 0.55,\n",
       " 0.65,\n",
       " 0.6,\n",
       " 0.65,\n",
       " 0.7,\n",
       " 0.75,\n",
       " 0.6,\n",
       " 0.6,\n",
       " 0.7,\n",
       " 0.65,\n",
       " 0.55,\n",
       " 0.7,\n",
       " 0.6,\n",
       " 0.6,\n",
       " 0.5,\n",
       " 0.65,\n",
       " 0.65,\n",
       " 0.55,\n",
       " 0.65,\n",
       " 0.6,\n",
       " 0.75,\n",
       " 0.6,\n",
       " 0.6,\n",
       " 0.6,\n",
       " 0.55,\n",
       " 0.7,\n",
       " 0.55,\n",
       " 0.65,\n",
       " 0.55,\n",
       " 0.55,\n",
       " 0.65,\n",
       " 0.65,\n",
       " 0.6,\n",
       " 0.65,\n",
       " 0.7,\n",
       " 0.7,\n",
       " 0.6,\n",
       " 0.55,\n",
       " 0.7,\n",
       " 0.55,\n",
       " 0.7,\n",
       " 0.55,\n",
       " 0.55,\n",
       " 0.65,\n",
       " 0.7,\n",
       " 0.75,\n",
       " 0.65,\n",
       " 0.65,\n",
       " 0.7,\n",
       " 0.7,\n",
       " 0.5,\n",
       " 0.6,\n",
       " 0.7,\n",
       " 0.5,\n",
       " 0.6,\n",
       " 0.65,\n",
       " 0.65,\n",
       " 0.65,\n",
       " 0.65,\n",
       " 0.6,\n",
       " 0.55,\n",
       " 0.5,\n",
       " 0.6,\n",
       " 0.65,\n",
       " 0.55,\n",
       " 0.6,\n",
       " 0.55,\n",
       " 0.6,\n",
       " 0.6,\n",
       " 0.65,\n",
       " 0.7,\n",
       " 0.55,\n",
       " 0.55,\n",
       " 0.6,\n",
       " 0.6,\n",
       " 0.6]"
      ]
     },
     "execution_count": 107,
     "metadata": {},
     "output_type": "execute_result"
    }
   ],
   "source": [
    "Tweet_rf_score = []\n",
    "for n in range (2, 100, 1):\n",
    "    rf = RandomForestClassifier(n_estimators=n)\n",
    "    rf = rf.fit(X_train, y_train)\n",
    "    rf.score(X_test, y_test)\n",
    "    score = rf.score(X_test, y_test)\n",
    "    Tweet_rf_score.append(score)\n",
    "\n",
    "Tweet_rf_score_df = pd.DataFrame(Twit_rf_score)\n",
    "Tweet_rf_score_df.index.name = 'n_estimators'\n",
    "Tweet_rf_score_df.to_csv(\"Tweet_rf_scores.csv\", index=True, header=True)\n",
    "Tweet_rf_score"
   ]
  },
  {
   "cell_type": "code",
   "execution_count": null,
   "metadata": {},
   "outputs": [],
   "source": []
  }
 ],
 "metadata": {
  "kernelspec": {
   "display_name": "Python 3",
   "language": "python",
   "name": "python3"
  },
  "language_info": {
   "codemirror_mode": {
    "name": "ipython",
    "version": 3
   },
   "file_extension": ".py",
   "mimetype": "text/x-python",
   "name": "python",
   "nbconvert_exporter": "python",
   "pygments_lexer": "ipython3",
   "version": "3.7.3"
  }
 },
 "nbformat": 4,
 "nbformat_minor": 2
}
