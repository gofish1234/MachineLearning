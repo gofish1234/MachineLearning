{
 "cells": [
  {
   "cell_type": "code",
   "execution_count": 35,
   "metadata": {},
   "outputs": [],
   "source": [
    "#Import dependencies\n",
    "import quandl\n",
    "import pandas as pd\n",
    "import numpy as np \n",
    "from sklearn.linear_model import LinearRegression\n",
    "from sklearn.svm import SVR\n",
    "from sklearn.model_selection import train_test_split"
   ]
  },
  {
   "cell_type": "code",
   "execution_count": 36,
   "metadata": {},
   "outputs": [],
   "source": [
    "#Retrieve data from Quandl\n",
    "quandl.ApiConfig.api_key = \"1sNXfWjF5c7B4CLEZZyT\""
   ]
  },
  {
   "cell_type": "code",
   "execution_count": 37,
   "metadata": {},
   "outputs": [
    {
     "data": {
      "text/html": [
       "<div>\n",
       "<style scoped>\n",
       "    .dataframe tbody tr th:only-of-type {\n",
       "        vertical-align: middle;\n",
       "    }\n",
       "\n",
       "    .dataframe tbody tr th {\n",
       "        vertical-align: top;\n",
       "    }\n",
       "\n",
       "    .dataframe thead th {\n",
       "        text-align: right;\n",
       "    }\n",
       "</style>\n",
       "<table border=\"1\" class=\"dataframe\">\n",
       "  <thead>\n",
       "    <tr style=\"text-align: right;\">\n",
       "      <th></th>\n",
       "      <th>Open</th>\n",
       "      <th>High</th>\n",
       "      <th>Low</th>\n",
       "      <th>Close</th>\n",
       "      <th>Volume</th>\n",
       "      <th>Dividend</th>\n",
       "      <th>Split</th>\n",
       "      <th>Adj_Open</th>\n",
       "      <th>Adj_High</th>\n",
       "      <th>Adj_Low</th>\n",
       "      <th>Adj_Close</th>\n",
       "      <th>Adj_Volume</th>\n",
       "    </tr>\n",
       "    <tr>\n",
       "      <th>Date</th>\n",
       "      <th></th>\n",
       "      <th></th>\n",
       "      <th></th>\n",
       "      <th></th>\n",
       "      <th></th>\n",
       "      <th></th>\n",
       "      <th></th>\n",
       "      <th></th>\n",
       "      <th></th>\n",
       "      <th></th>\n",
       "      <th></th>\n",
       "      <th></th>\n",
       "    </tr>\n",
       "  </thead>\n",
       "  <tbody>\n",
       "    <tr>\n",
       "      <th>2019-10-11</th>\n",
       "      <td>111.85</td>\n",
       "      <td>112.94</td>\n",
       "      <td>111.21</td>\n",
       "      <td>111.83</td>\n",
       "      <td>4581116.0</td>\n",
       "      <td>0.0</td>\n",
       "      <td>1.0</td>\n",
       "      <td>111.85</td>\n",
       "      <td>112.94</td>\n",
       "      <td>111.21</td>\n",
       "      <td>111.83</td>\n",
       "      <td>4581116.0</td>\n",
       "    </tr>\n",
       "    <tr>\n",
       "      <th>2019-10-14</th>\n",
       "      <td>111.85</td>\n",
       "      <td>112.23</td>\n",
       "      <td>110.95</td>\n",
       "      <td>111.15</td>\n",
       "      <td>2422448.0</td>\n",
       "      <td>0.0</td>\n",
       "      <td>1.0</td>\n",
       "      <td>111.85</td>\n",
       "      <td>112.23</td>\n",
       "      <td>110.95</td>\n",
       "      <td>111.15</td>\n",
       "      <td>2422448.0</td>\n",
       "    </tr>\n",
       "    <tr>\n",
       "      <th>2019-10-15</th>\n",
       "      <td>111.56</td>\n",
       "      <td>112.30</td>\n",
       "      <td>111.34</td>\n",
       "      <td>111.89</td>\n",
       "      <td>2717961.0</td>\n",
       "      <td>0.0</td>\n",
       "      <td>1.0</td>\n",
       "      <td>111.56</td>\n",
       "      <td>112.30</td>\n",
       "      <td>111.34</td>\n",
       "      <td>111.89</td>\n",
       "      <td>2717961.0</td>\n",
       "    </tr>\n",
       "    <tr>\n",
       "      <th>2019-10-16</th>\n",
       "      <td>111.79</td>\n",
       "      <td>112.21</td>\n",
       "      <td>111.18</td>\n",
       "      <td>112.19</td>\n",
       "      <td>2340192.0</td>\n",
       "      <td>0.0</td>\n",
       "      <td>1.0</td>\n",
       "      <td>111.79</td>\n",
       "      <td>112.21</td>\n",
       "      <td>111.18</td>\n",
       "      <td>112.19</td>\n",
       "      <td>2340192.0</td>\n",
       "    </tr>\n",
       "    <tr>\n",
       "      <th>2019-10-17</th>\n",
       "      <td>112.41</td>\n",
       "      <td>113.71</td>\n",
       "      <td>112.34</td>\n",
       "      <td>113.23</td>\n",
       "      <td>4115616.0</td>\n",
       "      <td>0.0</td>\n",
       "      <td>1.0</td>\n",
       "      <td>112.41</td>\n",
       "      <td>113.71</td>\n",
       "      <td>112.34</td>\n",
       "      <td>113.23</td>\n",
       "      <td>4115616.0</td>\n",
       "    </tr>\n",
       "  </tbody>\n",
       "</table>\n",
       "</div>"
      ],
      "text/plain": [
       "              Open    High     Low   Close     Volume  Dividend  Split  \\\n",
       "Date                                                                     \n",
       "2019-10-11  111.85  112.94  111.21  111.83  4581116.0       0.0    1.0   \n",
       "2019-10-14  111.85  112.23  110.95  111.15  2422448.0       0.0    1.0   \n",
       "2019-10-15  111.56  112.30  111.34  111.89  2717961.0       0.0    1.0   \n",
       "2019-10-16  111.79  112.21  111.18  112.19  2340192.0       0.0    1.0   \n",
       "2019-10-17  112.41  113.71  112.34  113.23  4115616.0       0.0    1.0   \n",
       "\n",
       "            Adj_Open  Adj_High  Adj_Low  Adj_Close  Adj_Volume  \n",
       "Date                                                            \n",
       "2019-10-11    111.85    112.94   111.21     111.83   4581116.0  \n",
       "2019-10-14    111.85    112.23   110.95     111.15   2422448.0  \n",
       "2019-10-15    111.56    112.30   111.34     111.89   2717961.0  \n",
       "2019-10-16    111.79    112.21   111.18     112.19   2340192.0  \n",
       "2019-10-17    112.41    113.71   112.34     113.23   4115616.0  "
      ]
     },
     "execution_count": 37,
     "metadata": {},
     "output_type": "execute_result"
    }
   ],
   "source": [
    "#Assign start and end dates form the stock\n",
    "start = pd.to_datetime('2014-10-17')\n",
    "end = pd.to_datetime('2019-10-17')\n",
    "data_TGT = quandl.get('EOD/TGT', start_date='2014-10-17', end_date='2019-10-17')\n",
    "data_TGT.tail()"
   ]
  },
  {
   "cell_type": "code",
   "execution_count": 38,
   "metadata": {},
   "outputs": [
    {
     "name": "stdout",
     "output_type": "stream",
     "text": [
      "            Adj_Close\n",
      "Date                 \n",
      "2014-10-17  49.932150\n",
      "2014-10-20  50.963422\n",
      "2014-10-21  52.104583\n",
      "2014-10-22  51.842539\n",
      "2014-10-23  52.434252\n"
     ]
    }
   ],
   "source": [
    "# Get the Adjusted Close Price \n",
    "data_TGT = data_TGT[['Adj_Close']] \n",
    "# Take a look at the new data \n",
    "print(data_TGT.head())"
   ]
  },
  {
   "cell_type": "code",
   "execution_count": 39,
   "metadata": {},
   "outputs": [
    {
     "name": "stdout",
     "output_type": "stream",
     "text": [
      "            Adj_Close  Prediction\n",
      "Date                             \n",
      "2019-10-11     111.83         NaN\n",
      "2019-10-14     111.15         NaN\n",
      "2019-10-15     111.89         NaN\n",
      "2019-10-16     112.19         NaN\n",
      "2019-10-17     113.23         NaN\n"
     ]
    }
   ],
   "source": [
    "# A variable for predicting 'n' days out into the future\n",
    "forecast_out=30     \n",
    "#Create another column (the target ) shifted 'n' units up\n",
    "data_TGT['Prediction'] = data_TGT[['Adj_Close']].shift(-forecast_out)\n",
    "#print the new data set\n",
    "print(data_TGT.tail())\n"
   ]
  },
  {
   "cell_type": "code",
   "execution_count": 40,
   "metadata": {},
   "outputs": [
    {
     "name": "stdout",
     "output_type": "stream",
     "text": [
      "[[ 49.93215   ]\n",
      " [ 50.96342176]\n",
      " [ 52.10458313]\n",
      " ...\n",
      " [106.71      ]\n",
      " [107.36      ]\n",
      " [108.54      ]]\n"
     ]
    }
   ],
   "source": [
    "### Create the independent data set (X)  #######\n",
    "# Convert the dataframe to a numpy array\n",
    "X = np.array(data_TGT.drop(['Prediction'],1))\n",
    "\n",
    "#Remove the last '30' rows\n",
    "X = X[:-forecast_out]\n",
    "print(X)"
   ]
  },
  {
   "cell_type": "code",
   "execution_count": 41,
   "metadata": {},
   "outputs": [
    {
     "name": "stdout",
     "output_type": "stream",
     "text": [
      "[ 61.97227609  62.24486892  62.46635059 ... 111.89       112.19\n",
      " 113.23      ]\n"
     ]
    }
   ],
   "source": [
    "### Create the dependent data set (y)  #####\n",
    "# Convert the dataframe to a numpy array \n",
    "y = np.array(data_TGT['Prediction'])\n",
    "# Get all of the y values except the last '30' rows\n",
    "y = y[:-forecast_out]\n",
    "print(y)"
   ]
  },
  {
   "cell_type": "code",
   "execution_count": 42,
   "metadata": {},
   "outputs": [],
   "source": [
    "# Split the data into 80% training and 20% testing\n",
    "x_train, x_test, y_train, y_test = train_test_split(X, y, test_size=0.2)"
   ]
  },
  {
   "cell_type": "code",
   "execution_count": 43,
   "metadata": {},
   "outputs": [
    {
     "data": {
      "text/plain": [
       "SVR(C=1000.0, cache_size=200, coef0=0.0, degree=3, epsilon=0.1, gamma=0.1,\n",
       "  kernel='rbf', max_iter=-1, shrinking=True, tol=0.001, verbose=False)"
      ]
     },
     "execution_count": 43,
     "metadata": {},
     "output_type": "execute_result"
    }
   ],
   "source": [
    "# Create and train the Support Vector Machine (Regressor) \n",
    "svr_rbf = SVR(kernel='rbf', C=1e3, gamma=0.1) \n",
    "svr_rbf.fit(x_train, y_train)"
   ]
  },
  {
   "cell_type": "code",
   "execution_count": 44,
   "metadata": {},
   "outputs": [
    {
     "name": "stdout",
     "output_type": "stream",
     "text": [
      "svm confidence:  0.6427129527418038\n"
     ]
    }
   ],
   "source": [
    "# Testing Model: Score returns the coefficient of determination R^2 of the prediction. \n",
    "# The best possible score is 1.0\n",
    "svm_confidence = svr_rbf.score(x_test, y_test)\n",
    "print(\"svm confidence: \", svm_confidence)"
   ]
  },
  {
   "cell_type": "code",
   "execution_count": 45,
   "metadata": {},
   "outputs": [
    {
     "data": {
      "text/plain": [
       "LinearRegression(copy_X=True, fit_intercept=True, n_jobs=None,\n",
       "         normalize=False)"
      ]
     },
     "execution_count": 45,
     "metadata": {},
     "output_type": "execute_result"
    }
   ],
   "source": [
    "# Create and train the Linear Regression  Model\n",
    "lr = LinearRegression()\n",
    "# Train the model\n",
    "lr.fit(x_train, y_train)"
   ]
  },
  {
   "cell_type": "code",
   "execution_count": 46,
   "metadata": {},
   "outputs": [
    {
     "name": "stdout",
     "output_type": "stream",
     "text": [
      "lr confidence:  0.6553818190063396\n"
     ]
    }
   ],
   "source": [
    "# Testing Model: Score returns the coefficient of determination R^2 of the prediction. \n",
    "# The best possible score is 1.0\n",
    "lr_confidence = lr.score(x_test, y_test)\n",
    "print(\"lr confidence: \", lr_confidence)"
   ]
  },
  {
   "cell_type": "code",
   "execution_count": 47,
   "metadata": {},
   "outputs": [
    {
     "name": "stdout",
     "output_type": "stream",
     "text": [
      "[[109.85]\n",
      " [107.95]\n",
      " [108.83]\n",
      " [108.97]\n",
      " [108.94]\n",
      " [107.99]\n",
      " [106.96]\n",
      " [107.28]\n",
      " [106.97]\n",
      " [107.87]\n",
      " [106.67]\n",
      " [108.78]\n",
      " [107.45]\n",
      " [106.8 ]\n",
      " [106.29]\n",
      " [106.12]\n",
      " [106.91]\n",
      " [105.94]\n",
      " [105.16]\n",
      " [106.62]\n",
      " [109.1 ]\n",
      " [107.95]\n",
      " [108.52]\n",
      " [110.36]\n",
      " [110.57]\n",
      " [111.83]\n",
      " [111.15]\n",
      " [111.89]\n",
      " [112.19]\n",
      " [113.23]]\n"
     ]
    }
   ],
   "source": [
    "# Set x_forecast equal to the last 30 rows of the original data set from Adj. Close column\n",
    "x_forecast = np.array(data_TGT.drop(['Prediction'],1))[-forecast_out:]\n",
    "print(x_forecast)"
   ]
  },
  {
   "cell_type": "code",
   "execution_count": 48,
   "metadata": {},
   "outputs": [
    {
     "name": "stdout",
     "output_type": "stream",
     "text": [
      "[108.96719856 107.16295518 107.99860474 108.13154899 108.10306094\n",
      " 107.20093925 106.22284941 106.52672198 106.23234543 107.08698703\n",
      " 105.9474649  107.95112465 106.68815429 106.07091313 105.58661622\n",
      " 105.42518392 106.17536932 105.25425559 104.5135662  105.89998481\n",
      " 108.25499723 107.16295518 107.70422819 109.45149547 109.65091184\n",
      " 110.84741009 110.20168088 110.9043862  111.18926673 112.17685258]\n"
     ]
    }
   ],
   "source": [
    "# Print linear regression model predictions for the next '30' days\n",
    "lr_prediction = lr.predict(x_forecast)\n",
    "print(lr_prediction)"
   ]
  },
  {
   "cell_type": "code",
   "execution_count": 49,
   "metadata": {},
   "outputs": [
    {
     "name": "stdout",
     "output_type": "stream",
     "text": [
      "[110.50488149 112.57181361 113.08365682 112.96262722 112.99434456\n",
      " 112.62927494 110.99721189 111.47200615 111.01046278 112.45141102\n",
      " 110.66919557 113.11063844 111.75427976 110.80222873 110.41882488\n",
      " 110.36993637 110.93277291 110.3527248  110.41731189 110.6244232\n",
      " 112.78743225 112.57181361 113.12421341 107.74098247 106.3598551\n",
      "  96.48494501 102.01781853  95.99988104  93.62828558  86.68281704]\n"
     ]
    }
   ],
   "source": [
    "# Print support vector regressor model predictions for the next '30' days\n",
    "svm_prediction = svr_rbf.predict(x_forecast)\n",
    "print(svm_prediction)"
   ]
  },
  {
   "cell_type": "code",
   "execution_count": null,
   "metadata": {},
   "outputs": [],
   "source": []
  }
 ],
 "metadata": {
  "kernelspec": {
   "display_name": "Python 3",
   "language": "python",
   "name": "python3"
  },
  "language_info": {
   "codemirror_mode": {
    "name": "ipython",
    "version": 3
   },
   "file_extension": ".py",
   "mimetype": "text/x-python",
   "name": "python",
   "nbconvert_exporter": "python",
   "pygments_lexer": "ipython3",
   "version": "3.7.3"
  }
 },
 "nbformat": 4,
 "nbformat_minor": 2
}
