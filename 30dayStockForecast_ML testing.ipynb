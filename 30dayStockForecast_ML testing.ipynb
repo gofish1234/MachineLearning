{
 "cells": [
  {
   "cell_type": "code",
   "execution_count": 95,
   "metadata": {},
   "outputs": [],
   "source": [
    "#Import dependencies\n",
    "import quandl\n",
    "import pandas as pd\n",
    "import numpy as np \n",
    "from sklearn.linear_model import LinearRegression\n",
    "from sklearn.svm import SVR\n",
    "from sklearn.model_selection import train_test_split"
   ]
  },
  {
   "cell_type": "code",
   "execution_count": 96,
   "metadata": {},
   "outputs": [],
   "source": [
    "#Retrieve data from Quandl\n",
    "quandl.ApiConfig.api_key = \"1sNXfWjF5c7B4CLEZZyT\""
   ]
  },
  {
   "cell_type": "code",
   "execution_count": 97,
   "metadata": {},
   "outputs": [
    {
     "data": {
      "text/html": [
       "<div>\n",
       "<style scoped>\n",
       "    .dataframe tbody tr th:only-of-type {\n",
       "        vertical-align: middle;\n",
       "    }\n",
       "\n",
       "    .dataframe tbody tr th {\n",
       "        vertical-align: top;\n",
       "    }\n",
       "\n",
       "    .dataframe thead th {\n",
       "        text-align: right;\n",
       "    }\n",
       "</style>\n",
       "<table border=\"1\" class=\"dataframe\">\n",
       "  <thead>\n",
       "    <tr style=\"text-align: right;\">\n",
       "      <th></th>\n",
       "      <th>Open</th>\n",
       "      <th>High</th>\n",
       "      <th>Low</th>\n",
       "      <th>Close</th>\n",
       "      <th>Volume</th>\n",
       "      <th>Dividend</th>\n",
       "      <th>Split</th>\n",
       "      <th>Adj_Open</th>\n",
       "      <th>Adj_High</th>\n",
       "      <th>Adj_Low</th>\n",
       "      <th>Adj_Close</th>\n",
       "      <th>Adj_Volume</th>\n",
       "    </tr>\n",
       "    <tr>\n",
       "      <th>Date</th>\n",
       "      <th></th>\n",
       "      <th></th>\n",
       "      <th></th>\n",
       "      <th></th>\n",
       "      <th></th>\n",
       "      <th></th>\n",
       "      <th></th>\n",
       "      <th></th>\n",
       "      <th></th>\n",
       "      <th></th>\n",
       "      <th></th>\n",
       "      <th></th>\n",
       "    </tr>\n",
       "  </thead>\n",
       "  <tbody>\n",
       "    <tr>\n",
       "      <th>2019-10-11</th>\n",
       "      <td>1742.92</td>\n",
       "      <td>1745.45</td>\n",
       "      <td>1729.86</td>\n",
       "      <td>1731.92</td>\n",
       "      <td>3279534.0</td>\n",
       "      <td>0.0</td>\n",
       "      <td>1.0</td>\n",
       "      <td>1742.92</td>\n",
       "      <td>1745.45</td>\n",
       "      <td>1729.86</td>\n",
       "      <td>1731.92</td>\n",
       "      <td>3279534.0</td>\n",
       "    </tr>\n",
       "    <tr>\n",
       "      <th>2019-10-14</th>\n",
       "      <td>1728.91</td>\n",
       "      <td>1741.89</td>\n",
       "      <td>1722.00</td>\n",
       "      <td>1736.43</td>\n",
       "      <td>1928898.0</td>\n",
       "      <td>0.0</td>\n",
       "      <td>1.0</td>\n",
       "      <td>1728.91</td>\n",
       "      <td>1741.89</td>\n",
       "      <td>1722.00</td>\n",
       "      <td>1736.43</td>\n",
       "      <td>1928898.0</td>\n",
       "    </tr>\n",
       "    <tr>\n",
       "      <th>2019-10-15</th>\n",
       "      <td>1742.14</td>\n",
       "      <td>1776.45</td>\n",
       "      <td>1740.62</td>\n",
       "      <td>1767.38</td>\n",
       "      <td>3129244.0</td>\n",
       "      <td>0.0</td>\n",
       "      <td>1.0</td>\n",
       "      <td>1742.14</td>\n",
       "      <td>1776.45</td>\n",
       "      <td>1740.62</td>\n",
       "      <td>1767.38</td>\n",
       "      <td>3129244.0</td>\n",
       "    </tr>\n",
       "    <tr>\n",
       "      <th>2019-10-16</th>\n",
       "      <td>1773.33</td>\n",
       "      <td>1786.24</td>\n",
       "      <td>1770.52</td>\n",
       "      <td>1777.43</td>\n",
       "      <td>2804068.0</td>\n",
       "      <td>0.0</td>\n",
       "      <td>1.0</td>\n",
       "      <td>1773.33</td>\n",
       "      <td>1786.24</td>\n",
       "      <td>1770.52</td>\n",
       "      <td>1777.43</td>\n",
       "      <td>2804068.0</td>\n",
       "    </tr>\n",
       "    <tr>\n",
       "      <th>2019-10-17</th>\n",
       "      <td>1796.49</td>\n",
       "      <td>1798.85</td>\n",
       "      <td>1782.02</td>\n",
       "      <td>1787.48</td>\n",
       "      <td>2713773.0</td>\n",
       "      <td>0.0</td>\n",
       "      <td>1.0</td>\n",
       "      <td>1796.49</td>\n",
       "      <td>1798.85</td>\n",
       "      <td>1782.02</td>\n",
       "      <td>1787.48</td>\n",
       "      <td>2713773.0</td>\n",
       "    </tr>\n",
       "  </tbody>\n",
       "</table>\n",
       "</div>"
      ],
      "text/plain": [
       "               Open     High      Low    Close     Volume  Dividend  Split  \\\n",
       "Date                                                                         \n",
       "2019-10-11  1742.92  1745.45  1729.86  1731.92  3279534.0       0.0    1.0   \n",
       "2019-10-14  1728.91  1741.89  1722.00  1736.43  1928898.0       0.0    1.0   \n",
       "2019-10-15  1742.14  1776.45  1740.62  1767.38  3129244.0       0.0    1.0   \n",
       "2019-10-16  1773.33  1786.24  1770.52  1777.43  2804068.0       0.0    1.0   \n",
       "2019-10-17  1796.49  1798.85  1782.02  1787.48  2713773.0       0.0    1.0   \n",
       "\n",
       "            Adj_Open  Adj_High  Adj_Low  Adj_Close  Adj_Volume  \n",
       "Date                                                            \n",
       "2019-10-11   1742.92   1745.45  1729.86    1731.92   3279534.0  \n",
       "2019-10-14   1728.91   1741.89  1722.00    1736.43   1928898.0  \n",
       "2019-10-15   1742.14   1776.45  1740.62    1767.38   3129244.0  \n",
       "2019-10-16   1773.33   1786.24  1770.52    1777.43   2804068.0  \n",
       "2019-10-17   1796.49   1798.85  1782.02    1787.48   2713773.0  "
      ]
     },
     "execution_count": 97,
     "metadata": {},
     "output_type": "execute_result"
    }
   ],
   "source": [
    "#Assign start and end dates form the stock\n",
    "start = pd.to_datetime('2014-10-17')\n",
    "end = pd.to_datetime('2019-10-17')\n",
    "data_TGT = quandl.get('EOD/AMZN', start_date='2014-10-17', end_date='2019-10-17')\n",
    "data_TGT.tail()"
   ]
  },
  {
   "cell_type": "code",
   "execution_count": 98,
   "metadata": {},
   "outputs": [
    {
     "name": "stdout",
     "output_type": "stream",
     "text": [
      "            Adj_Close\n",
      "Date                 \n",
      "2014-10-17     303.64\n",
      "2014-10-20     306.21\n",
      "2014-10-21     315.33\n",
      "2014-10-22     312.97\n",
      "2014-10-23     313.18\n"
     ]
    }
   ],
   "source": [
    "# Get the Adjusted Close Price \n",
    "data_TGT = data_TGT[['Adj_Close']] \n",
    "# Take a look at the new data \n",
    "print(data_TGT.head())"
   ]
  },
  {
   "cell_type": "code",
   "execution_count": 99,
   "metadata": {},
   "outputs": [
    {
     "name": "stdout",
     "output_type": "stream",
     "text": [
      "            Adj_Close  Prediction\n",
      "Date                             \n",
      "2019-10-11    1731.92         NaN\n",
      "2019-10-14    1736.43         NaN\n",
      "2019-10-15    1767.38         NaN\n",
      "2019-10-16    1777.43         NaN\n",
      "2019-10-17    1787.48         NaN\n"
     ]
    }
   ],
   "source": [
    "# A variable for predicting 'n' days out into the future\n",
    "forecast_out=30     \n",
    "#Create another column (the target ) shifted 'n' units up\n",
    "data_TGT['Prediction'] = data_TGT[['Adj_Close']].shift(-forecast_out)\n",
    "#print the new data set\n",
    "print(data_TGT.tail())\n"
   ]
  },
  {
   "cell_type": "code",
   "execution_count": 100,
   "metadata": {},
   "outputs": [
    {
     "name": "stdout",
     "output_type": "stream",
     "text": [
      "[[ 303.64]\n",
      " [ 306.21]\n",
      " [ 315.33]\n",
      " ...\n",
      " [1789.84]\n",
      " [1800.62]\n",
      " [1840.72]]\n"
     ]
    }
   ],
   "source": [
    "### Create the independent data set (X)  #######\n",
    "# Convert the dataframe to a numpy array\n",
    "X = np.array(data_TGT.drop(['Prediction'],1))\n",
    "\n",
    "#Remove the last '30' rows\n",
    "X = X[:-forecast_out]\n",
    "print(X)"
   ]
  },
  {
   "cell_type": "code",
   "execution_count": 101,
   "metadata": {},
   "outputs": [
    {
     "name": "stdout",
     "output_type": "stream",
     "text": [
      "[ 326.    326.31  316.5  ... 1767.38 1777.43 1787.48]\n"
     ]
    }
   ],
   "source": [
    "### Create the dependent data set (y)  #####\n",
    "# Convert the dataframe to a numpy array \n",
    "y = np.array(data_TGT['Prediction'])\n",
    "# Get all of the y values except the last '30' rows\n",
    "y = y[:-forecast_out]\n",
    "print(y)"
   ]
  },
  {
   "cell_type": "code",
   "execution_count": 102,
   "metadata": {},
   "outputs": [],
   "source": [
    "# Split the data into 80% training and 20% testing\n",
    "x_train, x_test, y_train, y_test = train_test_split(X, y, test_size=0.2)"
   ]
  },
  {
   "cell_type": "code",
   "execution_count": 103,
   "metadata": {},
   "outputs": [
    {
     "data": {
      "text/plain": [
       "SVR(C=1000.0, cache_size=200, coef0=0.0, degree=3, epsilon=0.1, gamma=0.1,\n",
       "  kernel='rbf', max_iter=-1, shrinking=True, tol=0.001, verbose=False)"
      ]
     },
     "execution_count": 103,
     "metadata": {},
     "output_type": "execute_result"
    }
   ],
   "source": [
    "# Create and train the Support Vector Machine (Regressor) \n",
    "svr_rbf = SVR(kernel='rbf', C=1e3, gamma=0.1) \n",
    "svr_rbf.fit(x_train, y_train)"
   ]
  },
  {
   "cell_type": "code",
   "execution_count": 104,
   "metadata": {},
   "outputs": [
    {
     "name": "stdout",
     "output_type": "stream",
     "text": [
      "svm confidence:  0.9304890027054755\n"
     ]
    }
   ],
   "source": [
    "# Testing Model: Score returns the coefficient of determination R^2 of the prediction. \n",
    "# The best possible score is 1.0\n",
    "svm_confidence = svr_rbf.score(x_test, y_test)\n",
    "print(\"svm confidence: \", svm_confidence)"
   ]
  },
  {
   "cell_type": "code",
   "execution_count": 105,
   "metadata": {},
   "outputs": [
    {
     "data": {
      "text/plain": [
       "LinearRegression(copy_X=True, fit_intercept=True, n_jobs=None,\n",
       "         normalize=False)"
      ]
     },
     "execution_count": 105,
     "metadata": {},
     "output_type": "execute_result"
    }
   ],
   "source": [
    "# Create and train the Linear Regression  Model\n",
    "lr = LinearRegression()\n",
    "# Train the model\n",
    "lr.fit(x_train, y_train)"
   ]
  },
  {
   "cell_type": "code",
   "execution_count": 106,
   "metadata": {},
   "outputs": [
    {
     "name": "stdout",
     "output_type": "stream",
     "text": [
      "lr confidence:  0.967052027814775\n"
     ]
    }
   ],
   "source": [
    "# Testing Model: Score returns the coefficient of determination R^2 of the prediction. \n",
    "# The best possible score is 1.0\n",
    "lr_confidence = lr.score(x_test, y_test)\n",
    "print(\"lr confidence: \", lr_confidence)"
   ]
  },
  {
   "cell_type": "code",
   "execution_count": 107,
   "metadata": {},
   "outputs": [
    {
     "name": "stdout",
     "output_type": "stream",
     "text": [
      "[[1833.51]\n",
      " [1831.35]\n",
      " [1820.55]\n",
      " [1822.99]\n",
      " [1843.55]\n",
      " [1839.34]\n",
      " [1807.84]\n",
      " [1822.55]\n",
      " [1817.46]\n",
      " [1821.5 ]\n",
      " [1794.16]\n",
      " [1785.3 ]\n",
      " [1741.61]\n",
      " [1768.33]\n",
      " [1739.84]\n",
      " [1725.45]\n",
      " [1735.91]\n",
      " [1735.65]\n",
      " [1713.23]\n",
      " [1724.42]\n",
      " [1739.65]\n",
      " [1732.66]\n",
      " [1705.51]\n",
      " [1721.99]\n",
      " [1720.26]\n",
      " [1731.92]\n",
      " [1736.43]\n",
      " [1767.38]\n",
      " [1777.43]\n",
      " [1787.48]]\n"
     ]
    }
   ],
   "source": [
    "# Set x_forecast equal to the last 30 rows of the original data set from Adj. Close column\n",
    "x_forecast = np.array(data_TGT.drop(['Prediction'],1))[-forecast_out:]\n",
    "print(x_forecast)"
   ]
  },
  {
   "cell_type": "code",
   "execution_count": 108,
   "metadata": {},
   "outputs": [
    {
     "name": "stdout",
     "output_type": "stream",
     "text": [
      "[1854.77193567 1852.6535574  1842.06166602 1844.45464889 1864.61847173\n",
      " 1860.48959555 1829.59657904 1844.02312739 1839.03120821 1842.99336017\n",
      " 1816.18018329 1807.49090944 1764.6427859  1790.84790975 1762.90689259\n",
      " 1748.79417806 1759.05262101 1758.79763103 1736.80964912 1747.78402546\n",
      " 1762.72055376 1755.86524629 1729.23840824 1745.4008499  1743.70418582\n",
      " 1755.13950558 1759.56260096 1789.9162156  1799.77255897 1809.62890233]\n"
     ]
    }
   ],
   "source": [
    "# Print linear regression model predictions for the next '30' days\n",
    "lr_prediction = lr.predict(x_forecast)\n",
    "print(lr_prediction)"
   ]
  },
  {
   "cell_type": "code",
   "execution_count": 109,
   "metadata": {},
   "outputs": [
    {
     "name": "stdout",
     "output_type": "stream",
     "text": [
      "[1843.67548579 1629.67292361 1909.69483584 1856.22481909 1843.62972197\n",
      " 1815.54125729 1784.89759214 1885.20567077 1942.10438219 1904.0944785\n",
      " 1806.93625789 1745.24583912 1861.55680608 1754.61131712 1838.44649924\n",
      " 1813.00964219 1892.43607523 1873.61989966 1885.71913765 1832.92816248\n",
      " 1845.31297348 1650.70382872 1746.59188211 1598.83065201 1461.93467342\n",
      " 1668.04024969 1921.88853579 1834.88424207 1832.17183994 1695.38053513]\n"
     ]
    }
   ],
   "source": [
    "# Print support vector regressor model predictions for the next '30' days\n",
    "svm_prediction = svr_rbf.predict(x_forecast)\n",
    "print(svm_prediction)"
   ]
  },
  {
   "cell_type": "code",
   "execution_count": null,
   "metadata": {},
   "outputs": [],
   "source": []
  },
  {
   "cell_type": "code",
   "execution_count": null,
   "metadata": {},
   "outputs": [],
   "source": []
  }
 ],
 "metadata": {
  "kernelspec": {
   "display_name": "Python 3",
   "language": "python",
   "name": "python3"
  },
  "language_info": {
   "codemirror_mode": {
    "name": "ipython",
    "version": 3
   },
   "file_extension": ".py",
   "mimetype": "text/x-python",
   "name": "python",
   "nbconvert_exporter": "python",
   "pygments_lexer": "ipython3",
   "version": "3.7.3"
  }
 },
 "nbformat": 4,
 "nbformat_minor": 2
}
