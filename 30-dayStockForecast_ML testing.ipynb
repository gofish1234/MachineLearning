{
 "cells": [
  {
   "cell_type": "code",
   "execution_count": 83,
   "metadata": {},
   "outputs": [],
   "source": [
    "#Import dependencies\n",
    "import quandl\n",
    "import pandas as pd\n",
    "import numpy as np \n",
    "from sklearn.linear_model import LinearRegression\n",
    "from sklearn.svm import SVR\n",
    "from sklearn.model_selection import train_test_split"
   ]
  },
  {
   "cell_type": "code",
   "execution_count": 84,
   "metadata": {},
   "outputs": [],
   "source": [
    "#Retrieve data from Quandl\n",
    "quandl.ApiConfig.api_key = \"1sNXfWjF5c7B4CLEZZyT\""
   ]
  },
  {
   "cell_type": "code",
   "execution_count": 85,
   "metadata": {},
   "outputs": [
    {
     "data": {
      "text/html": [
       "<div>\n",
       "<style scoped>\n",
       "    .dataframe tbody tr th:only-of-type {\n",
       "        vertical-align: middle;\n",
       "    }\n",
       "\n",
       "    .dataframe tbody tr th {\n",
       "        vertical-align: top;\n",
       "    }\n",
       "\n",
       "    .dataframe thead th {\n",
       "        text-align: right;\n",
       "    }\n",
       "</style>\n",
       "<table border=\"1\" class=\"dataframe\">\n",
       "  <thead>\n",
       "    <tr style=\"text-align: right;\">\n",
       "      <th></th>\n",
       "      <th>Open</th>\n",
       "      <th>High</th>\n",
       "      <th>Low</th>\n",
       "      <th>Close</th>\n",
       "      <th>Volume</th>\n",
       "      <th>Dividend</th>\n",
       "      <th>Split</th>\n",
       "      <th>Adj_Open</th>\n",
       "      <th>Adj_High</th>\n",
       "      <th>Adj_Low</th>\n",
       "      <th>Adj_Close</th>\n",
       "      <th>Adj_Volume</th>\n",
       "    </tr>\n",
       "    <tr>\n",
       "      <th>Date</th>\n",
       "      <th></th>\n",
       "      <th></th>\n",
       "      <th></th>\n",
       "      <th></th>\n",
       "      <th></th>\n",
       "      <th></th>\n",
       "      <th></th>\n",
       "      <th></th>\n",
       "      <th></th>\n",
       "      <th></th>\n",
       "      <th></th>\n",
       "      <th></th>\n",
       "    </tr>\n",
       "  </thead>\n",
       "  <tbody>\n",
       "    <tr>\n",
       "      <th>2019-10-11</th>\n",
       "      <td>1742.92</td>\n",
       "      <td>1745.45</td>\n",
       "      <td>1729.86</td>\n",
       "      <td>1731.92</td>\n",
       "      <td>3279534.0</td>\n",
       "      <td>0.0</td>\n",
       "      <td>1.0</td>\n",
       "      <td>1742.92</td>\n",
       "      <td>1745.45</td>\n",
       "      <td>1729.86</td>\n",
       "      <td>1731.92</td>\n",
       "      <td>3279534.0</td>\n",
       "    </tr>\n",
       "    <tr>\n",
       "      <th>2019-10-14</th>\n",
       "      <td>1728.91</td>\n",
       "      <td>1741.89</td>\n",
       "      <td>1722.00</td>\n",
       "      <td>1736.43</td>\n",
       "      <td>1928898.0</td>\n",
       "      <td>0.0</td>\n",
       "      <td>1.0</td>\n",
       "      <td>1728.91</td>\n",
       "      <td>1741.89</td>\n",
       "      <td>1722.00</td>\n",
       "      <td>1736.43</td>\n",
       "      <td>1928898.0</td>\n",
       "    </tr>\n",
       "    <tr>\n",
       "      <th>2019-10-15</th>\n",
       "      <td>1742.14</td>\n",
       "      <td>1776.45</td>\n",
       "      <td>1740.62</td>\n",
       "      <td>1767.38</td>\n",
       "      <td>3129244.0</td>\n",
       "      <td>0.0</td>\n",
       "      <td>1.0</td>\n",
       "      <td>1742.14</td>\n",
       "      <td>1776.45</td>\n",
       "      <td>1740.62</td>\n",
       "      <td>1767.38</td>\n",
       "      <td>3129244.0</td>\n",
       "    </tr>\n",
       "    <tr>\n",
       "      <th>2019-10-16</th>\n",
       "      <td>1773.33</td>\n",
       "      <td>1786.24</td>\n",
       "      <td>1770.52</td>\n",
       "      <td>1777.43</td>\n",
       "      <td>2804068.0</td>\n",
       "      <td>0.0</td>\n",
       "      <td>1.0</td>\n",
       "      <td>1773.33</td>\n",
       "      <td>1786.24</td>\n",
       "      <td>1770.52</td>\n",
       "      <td>1777.43</td>\n",
       "      <td>2804068.0</td>\n",
       "    </tr>\n",
       "    <tr>\n",
       "      <th>2019-10-17</th>\n",
       "      <td>1796.49</td>\n",
       "      <td>1798.85</td>\n",
       "      <td>1782.02</td>\n",
       "      <td>1787.48</td>\n",
       "      <td>2713773.0</td>\n",
       "      <td>0.0</td>\n",
       "      <td>1.0</td>\n",
       "      <td>1796.49</td>\n",
       "      <td>1798.85</td>\n",
       "      <td>1782.02</td>\n",
       "      <td>1787.48</td>\n",
       "      <td>2713773.0</td>\n",
       "    </tr>\n",
       "  </tbody>\n",
       "</table>\n",
       "</div>"
      ],
      "text/plain": [
       "               Open     High      Low    Close     Volume  Dividend  Split  \\\n",
       "Date                                                                         \n",
       "2019-10-11  1742.92  1745.45  1729.86  1731.92  3279534.0       0.0    1.0   \n",
       "2019-10-14  1728.91  1741.89  1722.00  1736.43  1928898.0       0.0    1.0   \n",
       "2019-10-15  1742.14  1776.45  1740.62  1767.38  3129244.0       0.0    1.0   \n",
       "2019-10-16  1773.33  1786.24  1770.52  1777.43  2804068.0       0.0    1.0   \n",
       "2019-10-17  1796.49  1798.85  1782.02  1787.48  2713773.0       0.0    1.0   \n",
       "\n",
       "            Adj_Open  Adj_High  Adj_Low  Adj_Close  Adj_Volume  \n",
       "Date                                                            \n",
       "2019-10-11   1742.92   1745.45  1729.86    1731.92   3279534.0  \n",
       "2019-10-14   1728.91   1741.89  1722.00    1736.43   1928898.0  \n",
       "2019-10-15   1742.14   1776.45  1740.62    1767.38   3129244.0  \n",
       "2019-10-16   1773.33   1786.24  1770.52    1777.43   2804068.0  \n",
       "2019-10-17   1796.49   1798.85  1782.02    1787.48   2713773.0  "
      ]
     },
     "execution_count": 85,
     "metadata": {},
     "output_type": "execute_result"
    }
   ],
   "source": [
    "#Assign start and end dates form the stock\n",
    "start = pd.to_datetime('2014-10-17')\n",
    "end = pd.to_datetime('2019-10-17')\n",
    "data_AMZN = quandl.get('EOD/AMZN', start_date='2014-10-17', end_date='2019-10-17')\n",
    "data_AMZN.tail()"
   ]
  },
  {
   "cell_type": "code",
   "execution_count": 86,
   "metadata": {},
   "outputs": [
    {
     "name": "stdout",
     "output_type": "stream",
     "text": [
      "            Adj_Close\n",
      "Date                 \n",
      "2014-10-17     303.64\n",
      "2014-10-20     306.21\n",
      "2014-10-21     315.33\n",
      "2014-10-22     312.97\n",
      "2014-10-23     313.18\n"
     ]
    }
   ],
   "source": [
    "# Get the Adjusted Close Price \n",
    "data_AMZN = data_AMZN[['Adj_Close']] \n",
    "# Take a look at the new data \n",
    "print(data_AMZN.head())"
   ]
  },
  {
   "cell_type": "code",
   "execution_count": 87,
   "metadata": {},
   "outputs": [
    {
     "name": "stdout",
     "output_type": "stream",
     "text": [
      "            Adj_Close  Prediction\n",
      "Date                             \n",
      "2019-10-11    1731.92         NaN\n",
      "2019-10-14    1736.43         NaN\n",
      "2019-10-15    1767.38         NaN\n",
      "2019-10-16    1777.43         NaN\n",
      "2019-10-17    1787.48         NaN\n"
     ]
    }
   ],
   "source": [
    "# A variable for predicting 'n' days out into the future\n",
    "forecast_out=30     \n",
    "#Create another column (the target ) shifted 'n' units up\n",
    "data_AMZN['Prediction'] = data_AMZN[['Adj_Close']].shift(-forecast_out)\n",
    "#print the new data set\n",
    "print(data_AMZN.tail())\n"
   ]
  },
  {
   "cell_type": "code",
   "execution_count": 88,
   "metadata": {},
   "outputs": [
    {
     "name": "stdout",
     "output_type": "stream",
     "text": [
      "[[ 303.64]\n",
      " [ 306.21]\n",
      " [ 315.33]\n",
      " ...\n",
      " [1789.84]\n",
      " [1800.62]\n",
      " [1840.72]]\n"
     ]
    }
   ],
   "source": [
    "### Create the independent data set (X)  #######\n",
    "# Convert the dataframe to a numpy array\n",
    "X = np.array(data_AMZN.drop(['Prediction'],1))\n",
    "\n",
    "#Remove the last '30' rows\n",
    "X = X[:-forecast_out]\n",
    "print(X)"
   ]
  },
  {
   "cell_type": "code",
   "execution_count": 89,
   "metadata": {},
   "outputs": [
    {
     "name": "stdout",
     "output_type": "stream",
     "text": [
      "[ 326.    326.31  316.5  ... 1767.38 1777.43 1787.48]\n"
     ]
    }
   ],
   "source": [
    "### Create the dependent data set (y)  #####\n",
    "# Convert the dataframe to a numpy array \n",
    "y = np.array(data_AMZN['Prediction'])\n",
    "# Get all of the y values except the last '30' rows\n",
    "y = y[:-forecast_out]\n",
    "print(y)"
   ]
  },
  {
   "cell_type": "code",
   "execution_count": 90,
   "metadata": {},
   "outputs": [],
   "source": [
    "# Split the data into 80% training and 20% testing\n",
    "x_train, x_test, y_train, y_test = train_test_split(X, y, test_size=0.2)"
   ]
  },
  {
   "cell_type": "code",
   "execution_count": 91,
   "metadata": {},
   "outputs": [
    {
     "data": {
      "text/plain": [
       "SVR(C=1000.0, cache_size=200, coef0=0.0, degree=3, epsilon=0.1, gamma=0.1,\n",
       "  kernel='rbf', max_iter=-1, shrinking=True, tol=0.001, verbose=False)"
      ]
     },
     "execution_count": 91,
     "metadata": {},
     "output_type": "execute_result"
    }
   ],
   "source": [
    "# Create and train the Support Vector Machine (Regressor) \n",
    "svr_rbf = SVR(kernel='rbf', C=1e3, gamma=0.1) \n",
    "svr_rbf.fit(x_train, y_train)"
   ]
  },
  {
   "cell_type": "code",
   "execution_count": 92,
   "metadata": {},
   "outputs": [
    {
     "name": "stdout",
     "output_type": "stream",
     "text": [
      "svm confidence:  0.9278426223524446\n"
     ]
    }
   ],
   "source": [
    "# Testing Model: Score returns the coefficient of determination R^2 of the prediction. \n",
    "# The best possible score is 1.0\n",
    "svm_confidence = svr_rbf.score(x_test, y_test)\n",
    "print(\"svm confidence: \", svm_confidence)"
   ]
  },
  {
   "cell_type": "code",
   "execution_count": 93,
   "metadata": {},
   "outputs": [
    {
     "data": {
      "text/plain": [
       "LinearRegression(copy_X=True, fit_intercept=True, n_jobs=None,\n",
       "         normalize=False)"
      ]
     },
     "execution_count": 93,
     "metadata": {},
     "output_type": "execute_result"
    }
   ],
   "source": [
    "# Create and train the Linear Regression  Model\n",
    "lr = LinearRegression()\n",
    "# Train the model\n",
    "lr.fit(x_train, y_train)"
   ]
  },
  {
   "cell_type": "code",
   "execution_count": 94,
   "metadata": {},
   "outputs": [
    {
     "name": "stdout",
     "output_type": "stream",
     "text": [
      "lr confidence:  0.96235033147744\n"
     ]
    }
   ],
   "source": [
    "# Testing Model: Score returns the coefficient of determination R^2 of the prediction. \n",
    "# The best possible score is 1.0\n",
    "lr_confidence = lr.score(x_test, y_test)\n",
    "print(\"lr confidence: \", lr_confidence)"
   ]
  },
  {
   "cell_type": "code",
   "execution_count": 95,
   "metadata": {},
   "outputs": [
    {
     "name": "stdout",
     "output_type": "stream",
     "text": [
      "[[1833.51]\n",
      " [1831.35]\n",
      " [1820.55]\n",
      " [1822.99]\n",
      " [1843.55]\n",
      " [1839.34]\n",
      " [1807.84]\n",
      " [1822.55]\n",
      " [1817.46]\n",
      " [1821.5 ]\n",
      " [1794.16]\n",
      " [1785.3 ]\n",
      " [1741.61]\n",
      " [1768.33]\n",
      " [1739.84]\n",
      " [1725.45]\n",
      " [1735.91]\n",
      " [1735.65]\n",
      " [1713.23]\n",
      " [1724.42]\n",
      " [1739.65]\n",
      " [1732.66]\n",
      " [1705.51]\n",
      " [1721.99]\n",
      " [1720.26]\n",
      " [1731.92]\n",
      " [1736.43]\n",
      " [1767.38]\n",
      " [1777.43]\n",
      " [1787.48]]\n"
     ]
    }
   ],
   "source": [
    "# Set x_forecast equal to the last 30 rows of the original data set from Adj. Close column\n",
    "x_forecast = np.array(data_AMZN.drop(['Prediction'],1))[-forecast_out:]\n",
    "print(x_forecast)"
   ]
  },
  {
   "cell_type": "code",
   "execution_count": 96,
   "metadata": {},
   "outputs": [
    {
     "name": "stdout",
     "output_type": "stream",
     "text": [
      "[1852.26908111 1850.15429735 1839.58037855 1841.96930094 1862.09890933\n",
      " 1857.97703913 1827.13644262 1841.53851166 1836.55506289 1840.51049178\n",
      " 1813.74281214 1805.06828246 1762.29286463 1788.45352301 1760.55991683\n",
      " 1746.47114909 1756.71218527 1756.45762796 1734.50695578 1745.46271054\n",
      " 1760.37389419 1753.53021896 1726.94856197 1743.08357881 1741.38979367\n",
      " 1752.80570971 1757.22129988 1787.52340978 1797.36302866 1807.20264755]\n"
     ]
    }
   ],
   "source": [
    "# Print linear regression model predictions for the next '30' days\n",
    "lr_prediction = lr.predict(x_forecast)\n",
    "print(lr_prediction)"
   ]
  },
  {
   "cell_type": "code",
   "execution_count": 97,
   "metadata": {},
   "outputs": [
    {
     "name": "stdout",
     "output_type": "stream",
     "text": [
      "[1893.63781407 1492.97737723 1905.69651854 1912.97257975 1837.97708915\n",
      " 1789.47356327 1790.01826954 1926.74309191 1770.08326972 1920.1582289\n",
      " 1843.08733328 1761.71853016 1924.03817458 1728.91937968 1893.88327356\n",
      " 1787.72218945 1829.73214518 1825.36984604 1933.44497516 1798.89149387\n",
      " 1889.95340118 1686.93186333 1769.91630995 1581.76865381 1466.41065161\n",
      " 1693.38248943 1835.34874872 1811.67091503 1639.18269644 1823.30903295]\n"
     ]
    }
   ],
   "source": [
    "# Print support vector regressor model predictions for the next '30' days\n",
    "svm_prediction = svr_rbf.predict(x_forecast)\n",
    "print(svm_prediction)"
   ]
  },
  {
   "cell_type": "code",
   "execution_count": 98,
   "metadata": {},
   "outputs": [
    {
     "data": {
      "text/html": [
       "<div>\n",
       "<style scoped>\n",
       "    .dataframe tbody tr th:only-of-type {\n",
       "        vertical-align: middle;\n",
       "    }\n",
       "\n",
       "    .dataframe tbody tr th {\n",
       "        vertical-align: top;\n",
       "    }\n",
       "\n",
       "    .dataframe thead th {\n",
       "        text-align: right;\n",
       "    }\n",
       "</style>\n",
       "<table border=\"1\" class=\"dataframe\">\n",
       "  <thead>\n",
       "    <tr style=\"text-align: right;\">\n",
       "      <th></th>\n",
       "      <th>Open</th>\n",
       "      <th>High</th>\n",
       "      <th>Low</th>\n",
       "      <th>Close</th>\n",
       "      <th>Volume</th>\n",
       "      <th>Dividend</th>\n",
       "      <th>Split</th>\n",
       "      <th>Adj_Open</th>\n",
       "      <th>Adj_High</th>\n",
       "      <th>Adj_Low</th>\n",
       "      <th>Adj_Close</th>\n",
       "      <th>Adj_Volume</th>\n",
       "    </tr>\n",
       "    <tr>\n",
       "      <th>Date</th>\n",
       "      <th></th>\n",
       "      <th></th>\n",
       "      <th></th>\n",
       "      <th></th>\n",
       "      <th></th>\n",
       "      <th></th>\n",
       "      <th></th>\n",
       "      <th></th>\n",
       "      <th></th>\n",
       "      <th></th>\n",
       "      <th></th>\n",
       "      <th></th>\n",
       "    </tr>\n",
       "  </thead>\n",
       "  <tbody>\n",
       "    <tr>\n",
       "      <th>2019-11-12</th>\n",
       "      <td>1774.66</td>\n",
       "      <td>1786.22</td>\n",
       "      <td>1771.91</td>\n",
       "      <td>1778.00</td>\n",
       "      <td>2038925.0</td>\n",
       "      <td>0.0</td>\n",
       "      <td>1.0</td>\n",
       "      <td>1774.66</td>\n",
       "      <td>1786.22</td>\n",
       "      <td>1771.91</td>\n",
       "      <td>1778.00</td>\n",
       "      <td>2038925.0</td>\n",
       "    </tr>\n",
       "    <tr>\n",
       "      <th>2019-11-13</th>\n",
       "      <td>1773.39</td>\n",
       "      <td>1775.00</td>\n",
       "      <td>1747.32</td>\n",
       "      <td>1753.11</td>\n",
       "      <td>2926892.0</td>\n",
       "      <td>0.0</td>\n",
       "      <td>1.0</td>\n",
       "      <td>1773.39</td>\n",
       "      <td>1775.00</td>\n",
       "      <td>1747.32</td>\n",
       "      <td>1753.11</td>\n",
       "      <td>2926892.0</td>\n",
       "    </tr>\n",
       "    <tr>\n",
       "      <th>2019-11-14</th>\n",
       "      <td>1751.43</td>\n",
       "      <td>1766.59</td>\n",
       "      <td>1749.56</td>\n",
       "      <td>1754.60</td>\n",
       "      <td>2269417.0</td>\n",
       "      <td>0.0</td>\n",
       "      <td>1.0</td>\n",
       "      <td>1751.43</td>\n",
       "      <td>1766.59</td>\n",
       "      <td>1749.56</td>\n",
       "      <td>1754.60</td>\n",
       "      <td>2269417.0</td>\n",
       "    </tr>\n",
       "    <tr>\n",
       "      <th>2019-11-15</th>\n",
       "      <td>1760.05</td>\n",
       "      <td>1761.68</td>\n",
       "      <td>1732.86</td>\n",
       "      <td>1739.49</td>\n",
       "      <td>3931141.0</td>\n",
       "      <td>0.0</td>\n",
       "      <td>1.0</td>\n",
       "      <td>1760.05</td>\n",
       "      <td>1761.68</td>\n",
       "      <td>1732.86</td>\n",
       "      <td>1739.49</td>\n",
       "      <td>3931141.0</td>\n",
       "    </tr>\n",
       "    <tr>\n",
       "      <th>2019-11-18</th>\n",
       "      <td>1738.30</td>\n",
       "      <td>1753.70</td>\n",
       "      <td>1722.71</td>\n",
       "      <td>1752.53</td>\n",
       "      <td>2841907.0</td>\n",
       "      <td>0.0</td>\n",
       "      <td>1.0</td>\n",
       "      <td>1738.30</td>\n",
       "      <td>1753.70</td>\n",
       "      <td>1722.71</td>\n",
       "      <td>1752.53</td>\n",
       "      <td>2841907.0</td>\n",
       "    </tr>\n",
       "  </tbody>\n",
       "</table>\n",
       "</div>"
      ],
      "text/plain": [
       "               Open     High      Low    Close     Volume  Dividend  Split  \\\n",
       "Date                                                                         \n",
       "2019-11-12  1774.66  1786.22  1771.91  1778.00  2038925.0       0.0    1.0   \n",
       "2019-11-13  1773.39  1775.00  1747.32  1753.11  2926892.0       0.0    1.0   \n",
       "2019-11-14  1751.43  1766.59  1749.56  1754.60  2269417.0       0.0    1.0   \n",
       "2019-11-15  1760.05  1761.68  1732.86  1739.49  3931141.0       0.0    1.0   \n",
       "2019-11-18  1738.30  1753.70  1722.71  1752.53  2841907.0       0.0    1.0   \n",
       "\n",
       "            Adj_Open  Adj_High  Adj_Low  Adj_Close  Adj_Volume  \n",
       "Date                                                            \n",
       "2019-11-12   1774.66   1786.22  1771.91    1778.00   2038925.0  \n",
       "2019-11-13   1773.39   1775.00  1747.32    1753.11   2926892.0  \n",
       "2019-11-14   1751.43   1766.59  1749.56    1754.60   2269417.0  \n",
       "2019-11-15   1760.05   1761.68  1732.86    1739.49   3931141.0  \n",
       "2019-11-18   1738.30   1753.70  1722.71    1752.53   2841907.0  "
      ]
     },
     "execution_count": 98,
     "metadata": {},
     "output_type": "execute_result"
    }
   ],
   "source": [
    "data_AMZN_val= quandl.get('EOD/AMZN', start_date='2019-10-18', end_date='2019-11-18')\n",
    "data_AMZN_val.tail()\n"
   ]
  },
  {
   "cell_type": "code",
   "execution_count": 99,
   "metadata": {},
   "outputs": [
    {
     "data": {
      "text/html": [
       "<div>\n",
       "<style scoped>\n",
       "    .dataframe tbody tr th:only-of-type {\n",
       "        vertical-align: middle;\n",
       "    }\n",
       "\n",
       "    .dataframe tbody tr th {\n",
       "        vertical-align: top;\n",
       "    }\n",
       "\n",
       "    .dataframe thead th {\n",
       "        text-align: right;\n",
       "    }\n",
       "</style>\n",
       "<table border=\"1\" class=\"dataframe\">\n",
       "  <thead>\n",
       "    <tr style=\"text-align: right;\">\n",
       "      <th></th>\n",
       "      <th>Adj_Close</th>\n",
       "    </tr>\n",
       "    <tr>\n",
       "      <th>Date</th>\n",
       "      <th></th>\n",
       "    </tr>\n",
       "  </thead>\n",
       "  <tbody>\n",
       "    <tr>\n",
       "      <th>2019-10-18</th>\n",
       "      <td>1757.51</td>\n",
       "    </tr>\n",
       "    <tr>\n",
       "      <th>2019-10-21</th>\n",
       "      <td>1785.66</td>\n",
       "    </tr>\n",
       "    <tr>\n",
       "      <th>2019-10-22</th>\n",
       "      <td>1765.73</td>\n",
       "    </tr>\n",
       "    <tr>\n",
       "      <th>2019-10-23</th>\n",
       "      <td>1762.17</td>\n",
       "    </tr>\n",
       "    <tr>\n",
       "      <th>2019-10-24</th>\n",
       "      <td>1780.78</td>\n",
       "    </tr>\n",
       "    <tr>\n",
       "      <th>2019-10-25</th>\n",
       "      <td>1761.33</td>\n",
       "    </tr>\n",
       "    <tr>\n",
       "      <th>2019-10-28</th>\n",
       "      <td>1777.08</td>\n",
       "    </tr>\n",
       "    <tr>\n",
       "      <th>2019-10-29</th>\n",
       "      <td>1762.71</td>\n",
       "    </tr>\n",
       "    <tr>\n",
       "      <th>2019-10-30</th>\n",
       "      <td>1779.99</td>\n",
       "    </tr>\n",
       "    <tr>\n",
       "      <th>2019-10-31</th>\n",
       "      <td>1776.66</td>\n",
       "    </tr>\n",
       "    <tr>\n",
       "      <th>2019-11-01</th>\n",
       "      <td>1791.44</td>\n",
       "    </tr>\n",
       "    <tr>\n",
       "      <th>2019-11-04</th>\n",
       "      <td>1804.66</td>\n",
       "    </tr>\n",
       "    <tr>\n",
       "      <th>2019-11-05</th>\n",
       "      <td>1801.71</td>\n",
       "    </tr>\n",
       "    <tr>\n",
       "      <th>2019-11-06</th>\n",
       "      <td>1795.77</td>\n",
       "    </tr>\n",
       "    <tr>\n",
       "      <th>2019-11-07</th>\n",
       "      <td>1788.20</td>\n",
       "    </tr>\n",
       "    <tr>\n",
       "      <th>2019-11-08</th>\n",
       "      <td>1785.88</td>\n",
       "    </tr>\n",
       "    <tr>\n",
       "      <th>2019-11-11</th>\n",
       "      <td>1771.65</td>\n",
       "    </tr>\n",
       "    <tr>\n",
       "      <th>2019-11-12</th>\n",
       "      <td>1778.00</td>\n",
       "    </tr>\n",
       "    <tr>\n",
       "      <th>2019-11-13</th>\n",
       "      <td>1753.11</td>\n",
       "    </tr>\n",
       "    <tr>\n",
       "      <th>2019-11-14</th>\n",
       "      <td>1754.60</td>\n",
       "    </tr>\n",
       "    <tr>\n",
       "      <th>2019-11-15</th>\n",
       "      <td>1739.49</td>\n",
       "    </tr>\n",
       "    <tr>\n",
       "      <th>2019-11-18</th>\n",
       "      <td>1752.53</td>\n",
       "    </tr>\n",
       "  </tbody>\n",
       "</table>\n",
       "</div>"
      ],
      "text/plain": [
       "            Adj_Close\n",
       "Date                 \n",
       "2019-10-18    1757.51\n",
       "2019-10-21    1785.66\n",
       "2019-10-22    1765.73\n",
       "2019-10-23    1762.17\n",
       "2019-10-24    1780.78\n",
       "2019-10-25    1761.33\n",
       "2019-10-28    1777.08\n",
       "2019-10-29    1762.71\n",
       "2019-10-30    1779.99\n",
       "2019-10-31    1776.66\n",
       "2019-11-01    1791.44\n",
       "2019-11-04    1804.66\n",
       "2019-11-05    1801.71\n",
       "2019-11-06    1795.77\n",
       "2019-11-07    1788.20\n",
       "2019-11-08    1785.88\n",
       "2019-11-11    1771.65\n",
       "2019-11-12    1778.00\n",
       "2019-11-13    1753.11\n",
       "2019-11-14    1754.60\n",
       "2019-11-15    1739.49\n",
       "2019-11-18    1752.53"
      ]
     },
     "execution_count": 99,
     "metadata": {},
     "output_type": "execute_result"
    }
   ],
   "source": [
    "data_AMZN_val=data_AMZN_val[[\"Adj_Close\"]]\n",
    "data_AMZN_val"
   ]
  },
  {
   "cell_type": "code",
   "execution_count": 100,
   "metadata": {},
   "outputs": [],
   "source": [
    "data_AMZN_val.to_csv(\"AMZNdata.csv\", index=True, header=True)"
   ]
  },
  {
   "cell_type": "code",
   "execution_count": null,
   "metadata": {},
   "outputs": [],
   "source": []
  }
 ],
 "metadata": {
  "kernelspec": {
   "display_name": "Python 3",
   "language": "python",
   "name": "python3"
  },
  "language_info": {
   "codemirror_mode": {
    "name": "ipython",
    "version": 3
   },
   "file_extension": ".py",
   "mimetype": "text/x-python",
   "name": "python",
   "nbconvert_exporter": "python",
   "pygments_lexer": "ipython3",
   "version": "3.7.3"
  }
 },
 "nbformat": 4,
 "nbformat_minor": 2
}
