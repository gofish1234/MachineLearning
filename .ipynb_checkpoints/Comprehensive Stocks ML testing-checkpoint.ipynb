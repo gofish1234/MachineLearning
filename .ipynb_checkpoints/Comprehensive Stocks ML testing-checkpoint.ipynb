{
 "cells": [
  {
   "cell_type": "code",
   "execution_count": 50,
   "metadata": {},
   "outputs": [],
   "source": [
    "#Import dependencies\n",
    "import quandl\n",
    "import numpy as np \n",
    "from sklearn.linear_model import LinearRegression\n",
    "from sklearn.svm import SVR\n",
    "from sklearn.model_selection import train_test_split"
   ]
  },
  {
   "cell_type": "code",
   "execution_count": 51,
   "metadata": {},
   "outputs": [],
   "source": [
    "#Retrieve data from Quandl\n",
    "quandl.ApiConfig.api_key = \"1sNXfWjF5c7B4CLEZZyT\""
   ]
  },
  {
   "cell_type": "code",
   "execution_count": 52,
   "metadata": {},
   "outputs": [
    {
     "data": {
      "text/html": [
       "<div>\n",
       "<style scoped>\n",
       "    .dataframe tbody tr th:only-of-type {\n",
       "        vertical-align: middle;\n",
       "    }\n",
       "\n",
       "    .dataframe tbody tr th {\n",
       "        vertical-align: top;\n",
       "    }\n",
       "\n",
       "    .dataframe thead th {\n",
       "        text-align: right;\n",
       "    }\n",
       "</style>\n",
       "<table border=\"1\" class=\"dataframe\">\n",
       "  <thead>\n",
       "    <tr style=\"text-align: right;\">\n",
       "      <th></th>\n",
       "      <th>Open</th>\n",
       "      <th>High</th>\n",
       "      <th>Low</th>\n",
       "      <th>Close</th>\n",
       "      <th>Volume</th>\n",
       "      <th>Dividend</th>\n",
       "      <th>Split</th>\n",
       "      <th>Adj_Open</th>\n",
       "      <th>Adj_High</th>\n",
       "      <th>Adj_Low</th>\n",
       "      <th>Adj_Close</th>\n",
       "      <th>Adj_Volume</th>\n",
       "    </tr>\n",
       "    <tr>\n",
       "      <th>Date</th>\n",
       "      <th></th>\n",
       "      <th></th>\n",
       "      <th></th>\n",
       "      <th></th>\n",
       "      <th></th>\n",
       "      <th></th>\n",
       "      <th></th>\n",
       "      <th></th>\n",
       "      <th></th>\n",
       "      <th></th>\n",
       "      <th></th>\n",
       "      <th></th>\n",
       "    </tr>\n",
       "  </thead>\n",
       "  <tbody>\n",
       "    <tr>\n",
       "      <th>2014-11-17</th>\n",
       "      <td>67.58</td>\n",
       "      <td>67.70</td>\n",
       "      <td>66.90</td>\n",
       "      <td>67.13</td>\n",
       "      <td>7260198.0</td>\n",
       "      <td>0.52</td>\n",
       "      <td>1.0</td>\n",
       "      <td>57.568198</td>\n",
       "      <td>57.670420</td>\n",
       "      <td>56.988938</td>\n",
       "      <td>57.184865</td>\n",
       "      <td>7260198.0</td>\n",
       "    </tr>\n",
       "    <tr>\n",
       "      <th>2014-11-18</th>\n",
       "      <td>66.96</td>\n",
       "      <td>67.76</td>\n",
       "      <td>66.50</td>\n",
       "      <td>67.51</td>\n",
       "      <td>5581483.0</td>\n",
       "      <td>0.00</td>\n",
       "      <td>1.0</td>\n",
       "      <td>57.040050</td>\n",
       "      <td>57.721532</td>\n",
       "      <td>56.648197</td>\n",
       "      <td>57.508569</td>\n",
       "      <td>5581483.0</td>\n",
       "    </tr>\n",
       "    <tr>\n",
       "      <th>2014-11-19</th>\n",
       "      <td>69.95</td>\n",
       "      <td>73.08</td>\n",
       "      <td>69.86</td>\n",
       "      <td>72.50</td>\n",
       "      <td>25614518.0</td>\n",
       "      <td>0.00</td>\n",
       "      <td>1.0</td>\n",
       "      <td>59.587089</td>\n",
       "      <td>62.253387</td>\n",
       "      <td>59.510422</td>\n",
       "      <td>61.759313</td>\n",
       "      <td>25614518.0</td>\n",
       "    </tr>\n",
       "    <tr>\n",
       "      <th>2014-11-20</th>\n",
       "      <td>71.34</td>\n",
       "      <td>71.83</td>\n",
       "      <td>70.30</td>\n",
       "      <td>71.19</td>\n",
       "      <td>11064661.0</td>\n",
       "      <td>0.00</td>\n",
       "      <td>1.0</td>\n",
       "      <td>60.771164</td>\n",
       "      <td>61.188572</td>\n",
       "      <td>59.885237</td>\n",
       "      <td>60.643386</td>\n",
       "      <td>11064661.0</td>\n",
       "    </tr>\n",
       "    <tr>\n",
       "      <th>2014-11-21</th>\n",
       "      <td>71.80</td>\n",
       "      <td>72.26</td>\n",
       "      <td>71.05</td>\n",
       "      <td>71.51</td>\n",
       "      <td>6835245.0</td>\n",
       "      <td>0.00</td>\n",
       "      <td>1.0</td>\n",
       "      <td>61.163016</td>\n",
       "      <td>61.554868</td>\n",
       "      <td>60.524127</td>\n",
       "      <td>60.915979</td>\n",
       "      <td>6835245.0</td>\n",
       "    </tr>\n",
       "  </tbody>\n",
       "</table>\n",
       "</div>"
      ],
      "text/plain": [
       "             Open   High    Low  Close      Volume  Dividend  Split  \\\n",
       "Date                                                                  \n",
       "2014-11-17  67.58  67.70  66.90  67.13   7260198.0      0.52    1.0   \n",
       "2014-11-18  66.96  67.76  66.50  67.51   5581483.0      0.00    1.0   \n",
       "2014-11-19  69.95  73.08  69.86  72.50  25614518.0      0.00    1.0   \n",
       "2014-11-20  71.34  71.83  70.30  71.19  11064661.0      0.00    1.0   \n",
       "2014-11-21  71.80  72.26  71.05  71.51   6835245.0      0.00    1.0   \n",
       "\n",
       "             Adj_Open   Adj_High    Adj_Low  Adj_Close  Adj_Volume  \n",
       "Date                                                                \n",
       "2014-11-17  57.568198  57.670420  56.988938  57.184865   7260198.0  \n",
       "2014-11-18  57.040050  57.721532  56.648197  57.508569   5581483.0  \n",
       "2014-11-19  59.587089  62.253387  59.510422  61.759313  25614518.0  \n",
       "2014-11-20  60.771164  61.188572  59.885237  60.643386  11064661.0  \n",
       "2014-11-21  61.163016  61.554868  60.524127  60.915979   6835245.0  "
      ]
     },
     "execution_count": 52,
     "metadata": {},
     "output_type": "execute_result"
    }
   ],
   "source": [
    "#Assign start and end dates form the stock\n",
    "start = pd.to_datetime('2014-11-17')\n",
    "end = pd.to_datetime('2019-11-17')\n",
    "data_TGT = quandl.get('EOD/TGT', start_date='2014-11-17', end_date='2019-11-17')\n",
    "data_TGT.head()"
   ]
  },
  {
   "cell_type": "code",
   "execution_count": 58,
   "metadata": {},
   "outputs": [
    {
     "name": "stdout",
     "output_type": "stream",
     "text": [
      "            Adj_Close\n",
      "Date                 \n",
      "2014-11-17  57.184865\n",
      "2014-11-18  57.508569\n",
      "2014-11-19  61.759313\n",
      "2014-11-20  60.643386\n",
      "2014-11-21  60.915979\n"
     ]
    }
   ],
   "source": [
    "# Get the Adjusted Close Price \n",
    "data_TGT = data_TGT[['Adj_Close']] \n",
    "# Take a look at the new data \n",
    "print(data_TGT.head())"
   ]
  },
  {
   "cell_type": "code",
   "execution_count": 59,
   "metadata": {},
   "outputs": [
    {
     "name": "stdout",
     "output_type": "stream",
     "text": [
      "            Adj_Close  Prediction\n",
      "Date                             \n",
      "2019-11-11     110.45         NaN\n",
      "2019-11-12     108.35         NaN\n",
      "2019-11-13     108.58         NaN\n",
      "2019-11-14     111.11         NaN\n",
      "2019-11-15     113.21         NaN\n"
     ]
    }
   ],
   "source": [
    "# A variable for predicting 'n' days out into the future\n",
    "forecast_out=30     \n",
    "#Create another column (the target ) shifted 'n' units up\n",
    "data_TGT['Prediction'] = data_TGT[['Adj_Close']].shift(-forecast_out)\n",
    "#print the new data set\n",
    "print(data_TGT.tail())\n"
   ]
  },
  {
   "cell_type": "code",
   "execution_count": 60,
   "metadata": {},
   "outputs": [
    {
     "name": "stdout",
     "output_type": "stream",
     "text": [
      "[[ 57.18486452]\n",
      " [ 57.5085685 ]\n",
      " [ 61.75931294]\n",
      " ...\n",
      " [105.16      ]\n",
      " [106.62      ]\n",
      " [109.1       ]]\n"
     ]
    }
   ],
   "source": [
    "### Create the independent data set (X)  #######\n",
    "# Convert the dataframe to a numpy array\n",
    "X = np.array(data_TGT.drop(['Prediction'],1))\n",
    "\n",
    "#Remove the last '30' rows\n",
    "X = X[:-forecast_out]\n",
    "print(X)"
   ]
  },
  {
   "cell_type": "code",
   "execution_count": 61,
   "metadata": {},
   "outputs": [
    {
     "name": "stdout",
     "output_type": "stream",
     "text": [
      "[ 64.66413028  64.17005578  63.02005478 ... 108.58       111.11\n",
      " 113.21      ]\n"
     ]
    }
   ],
   "source": [
    "### Create the dependent data set (y)  #####\n",
    "# Convert the dataframe to a numpy array \n",
    "y = np.array(data_TGT['Prediction'])\n",
    "# Get all of the y values except the last '30' rows\n",
    "y = y[:-forecast_out]\n",
    "print(y)"
   ]
  },
  {
   "cell_type": "code",
   "execution_count": 62,
   "metadata": {},
   "outputs": [],
   "source": [
    "# Split the data into 80% training and 20% testing\n",
    "x_train, x_test, y_train, y_test = train_test_split(X, y, test_size=0.2)"
   ]
  },
  {
   "cell_type": "code",
   "execution_count": 63,
   "metadata": {},
   "outputs": [
    {
     "data": {
      "text/plain": [
       "SVR(C=1000.0, cache_size=200, coef0=0.0, degree=3, epsilon=0.1, gamma=0.1,\n",
       "  kernel='rbf', max_iter=-1, shrinking=True, tol=0.001, verbose=False)"
      ]
     },
     "execution_count": 63,
     "metadata": {},
     "output_type": "execute_result"
    }
   ],
   "source": [
    "# Create and train the Support Vector Machine (Regressor) \n",
    "svr_rbf = SVR(kernel='rbf', C=1e3, gamma=0.1) \n",
    "svr_rbf.fit(x_train, y_train)"
   ]
  },
  {
   "cell_type": "code",
   "execution_count": 64,
   "metadata": {},
   "outputs": [
    {
     "name": "stdout",
     "output_type": "stream",
     "text": [
      "svm confidence:  0.6761840993544943\n"
     ]
    }
   ],
   "source": [
    "# Testing Model: Score returns the coefficient of determination R^2 of the prediction. \n",
    "# The best possible score is 1.0\n",
    "svm_confidence = svr_rbf.score(x_test, y_test)\n",
    "print(\"svm confidence: \", svm_confidence)"
   ]
  },
  {
   "cell_type": "code",
   "execution_count": 65,
   "metadata": {},
   "outputs": [
    {
     "data": {
      "text/plain": [
       "LinearRegression(copy_X=True, fit_intercept=True, n_jobs=None,\n",
       "         normalize=False)"
      ]
     },
     "execution_count": 65,
     "metadata": {},
     "output_type": "execute_result"
    }
   ],
   "source": [
    "# Create and train the Linear Regression  Model\n",
    "lr = LinearRegression()\n",
    "# Train the model\n",
    "lr.fit(x_train, y_train)"
   ]
  },
  {
   "cell_type": "code",
   "execution_count": 66,
   "metadata": {},
   "outputs": [
    {
     "name": "stdout",
     "output_type": "stream",
     "text": [
      "lr confidence:  0.705700437498372\n"
     ]
    }
   ],
   "source": [
    "# Testing Model: Score returns the coefficient of determination R^2 of the prediction. \n",
    "# The best possible score is 1.0\n",
    "lr_confidence = lr.score(x_test, y_test)\n",
    "print(\"lr confidence: \", lr_confidence)"
   ]
  },
  {
   "cell_type": "code",
   "execution_count": 67,
   "metadata": {},
   "outputs": [
    {
     "name": "stdout",
     "output_type": "stream",
     "text": [
      "[[107.95]\n",
      " [108.52]\n",
      " [110.36]\n",
      " [110.57]\n",
      " [111.83]\n",
      " [111.15]\n",
      " [111.89]\n",
      " [112.19]\n",
      " [113.23]\n",
      " [112.81]\n",
      " [113.68]\n",
      " [113.19]\n",
      " [111.36]\n",
      " [110.25]\n",
      " [109.02]\n",
      " [109.72]\n",
      " [108.15]\n",
      " [107.93]\n",
      " [106.91]\n",
      " [107.82]\n",
      " [108.77]\n",
      " [110.06]\n",
      " [110.51]\n",
      " [110.59]\n",
      " [110.15]\n",
      " [110.45]\n",
      " [108.35]\n",
      " [108.58]\n",
      " [111.11]\n",
      " [113.21]]\n"
     ]
    }
   ],
   "source": [
    "# Set x_forecast equal to the last 30 rows of the original data set from Adj. Close column\n",
    "x_forecast = np.array(data_TGT.drop(['Prediction'],1))[-forecast_out:]\n",
    "print(x_forecast)"
   ]
  },
  {
   "cell_type": "code",
   "execution_count": 68,
   "metadata": {},
   "outputs": [
    {
     "name": "stdout",
     "output_type": "stream",
     "text": [
      "[107.71783174 108.26972667 110.05128224 110.25461195 111.47459022\n",
      " 110.81618925 111.53268442 111.82315544 112.83012163 112.42346221\n",
      " 113.26582815 112.79139216 111.01951896 109.9447762  108.75384503\n",
      " 109.43161074 107.91147909 107.69846701 106.71086555 107.59196097\n",
      " 108.51178585 109.76081122 110.19651775 110.27397668 109.84795253\n",
      " 110.13842354 108.10512643 108.32782088 110.77745978 112.81075689]\n"
     ]
    }
   ],
   "source": [
    "# Print linear regression model predictions for the next '30' days\n",
    "lr_prediction = lr.predict(x_forecast)\n",
    "print(lr_prediction)"
   ]
  },
  {
   "cell_type": "code",
   "execution_count": 69,
   "metadata": {},
   "outputs": [
    {
     "name": "stdout",
     "output_type": "stream",
     "text": [
      "[109.13309762 109.50970341 112.37556475 111.47251294  98.05973599\n",
      " 106.76539851  97.20369903  92.88826138  80.07857457  84.59057258\n",
      "  76.53696287  80.45948441 104.35225188 112.67941955 110.78623391\n",
      " 112.73762346 109.12286857 109.14169452 110.33164373 109.2106319\n",
      " 110.06242419 112.94823333 111.77466597 111.3638783  112.8597552\n",
      " 112.04133451 109.26446516 109.62273733 107.18729021  80.26769228]\n"
     ]
    }
   ],
   "source": [
    "# Print support vector regressor model predictions for the next '30' days\n",
    "svm_prediction = svr_rbf.predict(x_forecast)\n",
    "print(svm_prediction)"
   ]
  },
  {
   "cell_type": "code",
   "execution_count": null,
   "metadata": {},
   "outputs": [],
   "source": []
  }
 ],
 "metadata": {
  "kernelspec": {
   "display_name": "Python 3",
   "language": "python",
   "name": "python3"
  },
  "language_info": {
   "codemirror_mode": {
    "name": "ipython",
    "version": 3
   },
   "file_extension": ".py",
   "mimetype": "text/x-python",
   "name": "python",
   "nbconvert_exporter": "python",
   "pygments_lexer": "ipython3",
   "version": "3.7.3"
  }
 },
 "nbformat": 4,
 "nbformat_minor": 2
}
