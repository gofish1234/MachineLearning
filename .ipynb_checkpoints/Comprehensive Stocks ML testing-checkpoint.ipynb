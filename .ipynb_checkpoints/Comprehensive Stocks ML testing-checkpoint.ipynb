{
 "cells": [
  {
   "cell_type": "code",
   "execution_count": 65,
   "metadata": {},
   "outputs": [],
   "source": [
    "#Import dependencies\n",
    "import quandl\n",
    "import pandas as pd\n",
    "import numpy as np \n",
    "from sklearn.linear_model import LinearRegression\n",
    "from sklearn.svm import SVR\n",
    "from sklearn.model_selection import train_test_split"
   ]
  },
  {
   "cell_type": "code",
   "execution_count": 66,
   "metadata": {},
   "outputs": [],
   "source": [
    "#Retrieve data from Quandl\n",
    "quandl.ApiConfig.api_key = \"1sNXfWjF5c7B4CLEZZyT\""
   ]
  },
  {
   "cell_type": "code",
   "execution_count": 67,
   "metadata": {},
   "outputs": [
    {
     "data": {
      "text/html": [
       "<div>\n",
       "<style scoped>\n",
       "    .dataframe tbody tr th:only-of-type {\n",
       "        vertical-align: middle;\n",
       "    }\n",
       "\n",
       "    .dataframe tbody tr th {\n",
       "        vertical-align: top;\n",
       "    }\n",
       "\n",
       "    .dataframe thead th {\n",
       "        text-align: right;\n",
       "    }\n",
       "</style>\n",
       "<table border=\"1\" class=\"dataframe\">\n",
       "  <thead>\n",
       "    <tr style=\"text-align: right;\">\n",
       "      <th></th>\n",
       "      <th>Open</th>\n",
       "      <th>High</th>\n",
       "      <th>Low</th>\n",
       "      <th>Close</th>\n",
       "      <th>Volume</th>\n",
       "      <th>Dividend</th>\n",
       "      <th>Split</th>\n",
       "      <th>Adj_Open</th>\n",
       "      <th>Adj_High</th>\n",
       "      <th>Adj_Low</th>\n",
       "      <th>Adj_Close</th>\n",
       "      <th>Adj_Volume</th>\n",
       "    </tr>\n",
       "    <tr>\n",
       "      <th>Date</th>\n",
       "      <th></th>\n",
       "      <th></th>\n",
       "      <th></th>\n",
       "      <th></th>\n",
       "      <th></th>\n",
       "      <th></th>\n",
       "      <th></th>\n",
       "      <th></th>\n",
       "      <th></th>\n",
       "      <th></th>\n",
       "      <th></th>\n",
       "      <th></th>\n",
       "    </tr>\n",
       "  </thead>\n",
       "  <tbody>\n",
       "    <tr>\n",
       "      <th>2019-10-11</th>\n",
       "      <td>1742.92</td>\n",
       "      <td>1745.45</td>\n",
       "      <td>1729.86</td>\n",
       "      <td>1731.92</td>\n",
       "      <td>3279534.0</td>\n",
       "      <td>0.0</td>\n",
       "      <td>1.0</td>\n",
       "      <td>1742.92</td>\n",
       "      <td>1745.45</td>\n",
       "      <td>1729.86</td>\n",
       "      <td>1731.92</td>\n",
       "      <td>3279534.0</td>\n",
       "    </tr>\n",
       "    <tr>\n",
       "      <th>2019-10-14</th>\n",
       "      <td>1728.91</td>\n",
       "      <td>1741.89</td>\n",
       "      <td>1722.00</td>\n",
       "      <td>1736.43</td>\n",
       "      <td>1928898.0</td>\n",
       "      <td>0.0</td>\n",
       "      <td>1.0</td>\n",
       "      <td>1728.91</td>\n",
       "      <td>1741.89</td>\n",
       "      <td>1722.00</td>\n",
       "      <td>1736.43</td>\n",
       "      <td>1928898.0</td>\n",
       "    </tr>\n",
       "    <tr>\n",
       "      <th>2019-10-15</th>\n",
       "      <td>1742.14</td>\n",
       "      <td>1776.45</td>\n",
       "      <td>1740.62</td>\n",
       "      <td>1767.38</td>\n",
       "      <td>3129244.0</td>\n",
       "      <td>0.0</td>\n",
       "      <td>1.0</td>\n",
       "      <td>1742.14</td>\n",
       "      <td>1776.45</td>\n",
       "      <td>1740.62</td>\n",
       "      <td>1767.38</td>\n",
       "      <td>3129244.0</td>\n",
       "    </tr>\n",
       "    <tr>\n",
       "      <th>2019-10-16</th>\n",
       "      <td>1773.33</td>\n",
       "      <td>1786.24</td>\n",
       "      <td>1770.52</td>\n",
       "      <td>1777.43</td>\n",
       "      <td>2804068.0</td>\n",
       "      <td>0.0</td>\n",
       "      <td>1.0</td>\n",
       "      <td>1773.33</td>\n",
       "      <td>1786.24</td>\n",
       "      <td>1770.52</td>\n",
       "      <td>1777.43</td>\n",
       "      <td>2804068.0</td>\n",
       "    </tr>\n",
       "    <tr>\n",
       "      <th>2019-10-17</th>\n",
       "      <td>1796.49</td>\n",
       "      <td>1798.85</td>\n",
       "      <td>1782.02</td>\n",
       "      <td>1787.48</td>\n",
       "      <td>2713773.0</td>\n",
       "      <td>0.0</td>\n",
       "      <td>1.0</td>\n",
       "      <td>1796.49</td>\n",
       "      <td>1798.85</td>\n",
       "      <td>1782.02</td>\n",
       "      <td>1787.48</td>\n",
       "      <td>2713773.0</td>\n",
       "    </tr>\n",
       "  </tbody>\n",
       "</table>\n",
       "</div>"
      ],
      "text/plain": [
       "               Open     High      Low    Close     Volume  Dividend  Split  \\\n",
       "Date                                                                         \n",
       "2019-10-11  1742.92  1745.45  1729.86  1731.92  3279534.0       0.0    1.0   \n",
       "2019-10-14  1728.91  1741.89  1722.00  1736.43  1928898.0       0.0    1.0   \n",
       "2019-10-15  1742.14  1776.45  1740.62  1767.38  3129244.0       0.0    1.0   \n",
       "2019-10-16  1773.33  1786.24  1770.52  1777.43  2804068.0       0.0    1.0   \n",
       "2019-10-17  1796.49  1798.85  1782.02  1787.48  2713773.0       0.0    1.0   \n",
       "\n",
       "            Adj_Open  Adj_High  Adj_Low  Adj_Close  Adj_Volume  \n",
       "Date                                                            \n",
       "2019-10-11   1742.92   1745.45  1729.86    1731.92   3279534.0  \n",
       "2019-10-14   1728.91   1741.89  1722.00    1736.43   1928898.0  \n",
       "2019-10-15   1742.14   1776.45  1740.62    1767.38   3129244.0  \n",
       "2019-10-16   1773.33   1786.24  1770.52    1777.43   2804068.0  \n",
       "2019-10-17   1796.49   1798.85  1782.02    1787.48   2713773.0  "
      ]
     },
     "execution_count": 67,
     "metadata": {},
     "output_type": "execute_result"
    }
   ],
   "source": [
    "#Assign start and end dates form the stock\n",
    "start = pd.to_datetime('2014-10-17')\n",
    "end = pd.to_datetime('2019-10-17')\n",
    "data_TGT = quandl.get('EOD/AMZN', start_date='2014-10-17', end_date='2019-10-17')\n",
    "data_TGT.tail()"
   ]
  },
  {
   "cell_type": "code",
   "execution_count": 68,
   "metadata": {},
   "outputs": [
    {
     "name": "stdout",
     "output_type": "stream",
     "text": [
      "            Adj_Close\n",
      "Date                 \n",
      "2014-10-17     303.64\n",
      "2014-10-20     306.21\n",
      "2014-10-21     315.33\n",
      "2014-10-22     312.97\n",
      "2014-10-23     313.18\n"
     ]
    }
   ],
   "source": [
    "# Get the Adjusted Close Price \n",
    "data_TGT = data_TGT[['Adj_Close']] \n",
    "# Take a look at the new data \n",
    "print(data_TGT.head())"
   ]
  },
  {
   "cell_type": "code",
   "execution_count": 69,
   "metadata": {},
   "outputs": [
    {
     "name": "stdout",
     "output_type": "stream",
     "text": [
      "            Adj_Close  Prediction\n",
      "Date                             \n",
      "2019-10-11    1731.92         NaN\n",
      "2019-10-14    1736.43         NaN\n",
      "2019-10-15    1767.38         NaN\n",
      "2019-10-16    1777.43         NaN\n",
      "2019-10-17    1787.48         NaN\n"
     ]
    }
   ],
   "source": [
    "# A variable for predicting 'n' days out into the future\n",
    "forecast_out=30     \n",
    "#Create another column (the target ) shifted 'n' units up\n",
    "data_TGT['Prediction'] = data_TGT[['Adj_Close']].shift(-forecast_out)\n",
    "#print the new data set\n",
    "print(data_TGT.tail())\n"
   ]
  },
  {
   "cell_type": "code",
   "execution_count": 70,
   "metadata": {},
   "outputs": [
    {
     "name": "stdout",
     "output_type": "stream",
     "text": [
      "[[ 303.64]\n",
      " [ 306.21]\n",
      " [ 315.33]\n",
      " ...\n",
      " [1789.84]\n",
      " [1800.62]\n",
      " [1840.72]]\n"
     ]
    }
   ],
   "source": [
    "### Create the independent data set (X)  #######\n",
    "# Convert the dataframe to a numpy array\n",
    "X = np.array(data_TGT.drop(['Prediction'],1))\n",
    "\n",
    "#Remove the last '30' rows\n",
    "X = X[:-forecast_out]\n",
    "print(X)"
   ]
  },
  {
   "cell_type": "code",
   "execution_count": 71,
   "metadata": {},
   "outputs": [
    {
     "name": "stdout",
     "output_type": "stream",
     "text": [
      "[ 326.    326.31  316.5  ... 1767.38 1777.43 1787.48]\n"
     ]
    }
   ],
   "source": [
    "### Create the dependent data set (y)  #####\n",
    "# Convert the dataframe to a numpy array \n",
    "y = np.array(data_TGT['Prediction'])\n",
    "# Get all of the y values except the last '30' rows\n",
    "y = y[:-forecast_out]\n",
    "print(y)"
   ]
  },
  {
   "cell_type": "code",
   "execution_count": 72,
   "metadata": {},
   "outputs": [],
   "source": [
    "# Split the data into 80% training and 20% testing\n",
    "x_train, x_test, y_train, y_test = train_test_split(X, y, test_size=0.2)"
   ]
  },
  {
   "cell_type": "code",
   "execution_count": 73,
   "metadata": {},
   "outputs": [
    {
     "data": {
      "text/plain": [
       "SVR(C=1000.0, cache_size=200, coef0=0.0, degree=3, epsilon=0.1, gamma=0.1,\n",
       "  kernel='rbf', max_iter=-1, shrinking=True, tol=0.001, verbose=False)"
      ]
     },
     "execution_count": 73,
     "metadata": {},
     "output_type": "execute_result"
    }
   ],
   "source": [
    "# Create and train the Support Vector Machine (Regressor) \n",
    "svr_rbf = SVR(kernel='rbf', C=1e3, gamma=0.1) \n",
    "svr_rbf.fit(x_train, y_train)"
   ]
  },
  {
   "cell_type": "code",
   "execution_count": 74,
   "metadata": {},
   "outputs": [
    {
     "name": "stdout",
     "output_type": "stream",
     "text": [
      "svm confidence:  0.9419843093816971\n"
     ]
    }
   ],
   "source": [
    "# Testing Model: Score returns the coefficient of determination R^2 of the prediction. \n",
    "# The best possible score is 1.0\n",
    "svm_confidence = svr_rbf.score(x_test, y_test)\n",
    "print(\"svm confidence: \", svm_confidence)"
   ]
  },
  {
   "cell_type": "code",
   "execution_count": 75,
   "metadata": {},
   "outputs": [
    {
     "data": {
      "text/plain": [
       "LinearRegression(copy_X=True, fit_intercept=True, n_jobs=None,\n",
       "         normalize=False)"
      ]
     },
     "execution_count": 75,
     "metadata": {},
     "output_type": "execute_result"
    }
   ],
   "source": [
    "# Create and train the Linear Regression  Model\n",
    "lr = LinearRegression()\n",
    "# Train the model\n",
    "lr.fit(x_train, y_train)"
   ]
  },
  {
   "cell_type": "code",
   "execution_count": 76,
   "metadata": {},
   "outputs": [
    {
     "name": "stdout",
     "output_type": "stream",
     "text": [
      "lr confidence:  0.9611366671406929\n"
     ]
    }
   ],
   "source": [
    "# Testing Model: Score returns the coefficient of determination R^2 of the prediction. \n",
    "# The best possible score is 1.0\n",
    "lr_confidence = lr.score(x_test, y_test)\n",
    "print(\"lr confidence: \", lr_confidence)"
   ]
  },
  {
   "cell_type": "code",
   "execution_count": 77,
   "metadata": {},
   "outputs": [
    {
     "name": "stdout",
     "output_type": "stream",
     "text": [
      "[[1833.51]\n",
      " [1831.35]\n",
      " [1820.55]\n",
      " [1822.99]\n",
      " [1843.55]\n",
      " [1839.34]\n",
      " [1807.84]\n",
      " [1822.55]\n",
      " [1817.46]\n",
      " [1821.5 ]\n",
      " [1794.16]\n",
      " [1785.3 ]\n",
      " [1741.61]\n",
      " [1768.33]\n",
      " [1739.84]\n",
      " [1725.45]\n",
      " [1735.91]\n",
      " [1735.65]\n",
      " [1713.23]\n",
      " [1724.42]\n",
      " [1739.65]\n",
      " [1732.66]\n",
      " [1705.51]\n",
      " [1721.99]\n",
      " [1720.26]\n",
      " [1731.92]\n",
      " [1736.43]\n",
      " [1767.38]\n",
      " [1777.43]\n",
      " [1787.48]]\n"
     ]
    }
   ],
   "source": [
    "# Set x_forecast equal to the last 30 rows of the original data set from Adj. Close column\n",
    "x_forecast = np.array(data_TGT.drop(['Prediction'],1))[-forecast_out:]\n",
    "print(x_forecast)"
   ]
  },
  {
   "cell_type": "code",
   "execution_count": 78,
   "metadata": {},
   "outputs": [
    {
     "name": "stdout",
     "output_type": "stream",
     "text": [
      "[1852.32456617 1850.20708387 1839.61967234 1842.01164309 1862.16693763\n",
      " 1858.03980777 1827.15985747 1841.5803041  1836.59049626 1840.55097243\n",
      " 1813.7491362  1805.06353749 1762.23353659 1788.42757696 1760.49837748\n",
      " 1746.39163193 1756.64573606 1756.39085393 1734.41217185 1745.38190657\n",
      " 1760.31211746 1753.45970944 1726.84413324 1742.99973898 1741.3037925\n",
      " 1752.73427569 1757.15550032 1787.49627688 1797.34845149 1807.20062611]\n"
     ]
    }
   ],
   "source": [
    "# Print linear regression model predictions for the next '30' days\n",
    "lr_prediction = lr.predict(x_forecast)\n",
    "print(lr_prediction)"
   ]
  },
  {
   "cell_type": "code",
   "execution_count": 79,
   "metadata": {},
   "outputs": [
    {
     "name": "stdout",
     "output_type": "stream",
     "text": [
      "[1863.50974256 1800.77260707 1901.72456302 1890.3187159  1966.49019718\n",
      " 1780.28883029 1930.23862269 1924.3243204  1936.9603874  1936.71977967\n",
      " 1809.51813673 1745.89868684 1934.31127547 1712.19826111 1954.6308985\n",
      " 1787.64899646 1886.89379685 1868.15103102 1667.41685729 1798.33711553\n",
      " 1958.74117154 1659.10338384 1749.45953713 1586.15982871 1470.51632138\n",
      " 1674.1502044  1920.08671867 1757.80994442 1775.63209246 1728.93190238]\n"
     ]
    }
   ],
   "source": [
    "# Print support vector regressor model predictions for the next '30' days\n",
    "svm_prediction = svr_rbf.predict(x_forecast)\n",
    "print(svm_prediction)"
   ]
  },
  {
   "cell_type": "code",
   "execution_count": null,
   "metadata": {},
   "outputs": [],
   "source": []
  },
  {
   "cell_type": "code",
   "execution_count": null,
   "metadata": {},
   "outputs": [],
   "source": []
  }
 ],
 "metadata": {
  "kernelspec": {
   "display_name": "Python 3",
   "language": "python",
   "name": "python3"
  },
  "language_info": {
   "codemirror_mode": {
    "name": "ipython",
    "version": 3
   },
   "file_extension": ".py",
   "mimetype": "text/x-python",
   "name": "python",
   "nbconvert_exporter": "python",
   "pygments_lexer": "ipython3",
   "version": "3.7.3"
  }
 },
 "nbformat": 4,
 "nbformat_minor": 2
}
